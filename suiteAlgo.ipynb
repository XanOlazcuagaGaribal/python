{
  "nbformat": 4,
  "nbformat_minor": 0,
  "metadata": {
    "colab": {
      "name": "suiteAlgo.ipynb",
      "provenance": [],
      "collapsed_sections": [],
      "authorship_tag": "ABX9TyPxPi1OycahqLvJKBixCYlY",
      "include_colab_link": true
    },
    "kernelspec": {
      "name": "python3",
      "display_name": "Python 3"
    }
  },
  "cells": [
    {
      "cell_type": "markdown",
      "metadata": {
        "id": "view-in-github",
        "colab_type": "text"
      },
      "source": [
        "<a href=\"https://colab.research.google.com/github/XanOlazcuagaGaribal/python/blob/main/suiteAlgo.ipynb\" target=\"_parent\"><img src=\"https://colab.research.google.com/assets/colab-badge.svg\" alt=\"Open In Colab\"/></a>"
      ]
    },
    {
      "cell_type": "markdown",
      "metadata": {
        "id": "_amtTGnJ36RP"
      },
      "source": [
        "Problème : Coefficients binomiaux\n",
        "\n",
        "$(_k^n) = C_k^n = \\frac{n!}{k! (n - k)!}$\n",
        "\n",
        "n <- input(user)\n",
        "\n",
        "k <- input(user)\n",
        "\n",
        "On défini la fonction factorielle \n",
        ">Si n < 2 \n",
        "\n",
        "> > Alors on affiche 1\n",
        "\n",
        "> Sinon \n",
        "\n",
        "> > On affiche n * fact(n-1)\n",
        "\n",
        "C <- (fact(n)) / (fact(k) * fact(n-k))\n"
      ]
    },
    {
      "cell_type": "code",
      "metadata": {
        "id": "1_y1y0tM22RL",
        "outputId": "15d53072-4905-4424-97ed-7c770a802748",
        "colab": {
          "base_uri": "https://localhost:8080/",
          "height": 72
        }
      },
      "source": [
        "from math import factorial\n",
        "n = int(input())\n",
        "k = int(input())\n",
        "c = 0\n",
        "def fact(n):\n",
        "  if n < 2 :\n",
        "    return 1\n",
        "  else :\n",
        "     return n*fact(n-1)\n",
        "\n",
        "c = fact(n) / (fact(k)*(fact(n-k)))\n",
        "\n",
        "print(c)\n",
        "\n",
        "#import scipy.special\n",
        "#scipy.special.binom(10, 5)"
      ],
      "execution_count": 1,
      "outputs": [
        {
          "output_type": "stream",
          "text": [
            "2\n",
            "5\n",
            "0.016666666666666666\n"
          ],
          "name": "stdout"
        }
      ]
    },
    {
      "cell_type": "markdown",
      "metadata": {
        "id": "NNqs3dzh6Bl9"
      },
      "source": [
        "Problème : Saisie de matrice \n",
        "\n",
        "On défini la fonction qui demande à l'utilisateur la taille d'un matrice\n",
        "\n",
        "mat <- []\n",
        "\n",
        "lignes <- input(user)\n",
        "\n",
        "colonnes <- input(user)\n",
        "\n",
        "mat = np.zeros((lignes,colonnes))\n",
        "\n",
        "On renvoie la matrice\n",
        "\n",
        "//Saisi de la matrice \n",
        "\n",
        "Pour j dans colonnes\n",
        "\n",
        "> Pour i dans lignes\n",
        "\n",
        "> > mat[i,j] = input(user)\n",
        "\n"
      ]
    },
    {
      "cell_type": "code",
      "metadata": {
        "id": "1rKt-vm66BzI",
        "outputId": "5523dade-f752-445e-e111-dae9d420866c",
        "colab": {
          "base_uri": "https://localhost:8080/",
          "height": 164
        }
      },
      "source": [
        "import numpy as np\n",
        "\n",
        "mat = []\n",
        "lignes = int(input(\"Lignes : \"))\n",
        "colonnes = int(input(\"Colonnes : \"))\n",
        "mat = np.zeros((lignes,colonnes))\n",
        "\n",
        "for j in range(0, colonnes):\n",
        "  for i in range(0,lignes):\n",
        "    mat[i,j] = input(\"Valeur : \")\n",
        "\n",
        "print(mat)"
      ],
      "execution_count": 17,
      "outputs": [
        {
          "output_type": "stream",
          "text": [
            "Lignes : 2\n",
            "Colonnes : 2\n",
            "Valeur : 1\n",
            "Valeur : 2\n",
            "Valeur : 3\n",
            "Valeur : 4\n",
            "[[1. 3.]\n",
            " [2. 4.]]\n"
          ],
          "name": "stdout"
        }
      ]
    },
    {
      "cell_type": "markdown",
      "metadata": {
        "id": "iJbnm3Jx6B7m"
      },
      "source": [
        "Problème : Multiplication matricielle\n",
        "\n",
        "1- On défini un fonction permettant de saisir une matrice\n",
        "\n",
        "mat <- []\n",
        "\n",
        "lignes <- input(user)\n",
        "\n",
        "colonnes <- input(user)\n",
        "\n",
        "mat = np.zeros((lignes,colonnes))\n",
        "\n",
        "def matrice():\n",
        "\n",
        "> //Saisi de la matrice \n",
        "\n",
        "> Pour j dans colonnes\n",
        "\n",
        "> > Pour i dans lignes\n",
        "\n",
        "> > > mat[i,j] = input(user)\n",
        "\n",
        "On appelle la fonction 2 fois \n",
        "\n",
        "A <- matrice()\n",
        "\n",
        "print(A)\n",
        "\n",
        "B <- matrice()\n",
        "\n",
        "print(B)\n",
        "\n",
        "---\n",
        "\n",
        "3 - Multiplication matricielle \n",
        "\n",
        "> $C_{ij} = \\sum_{k=1}^m a_{ik} * b_{kj}$\n",
        "\n",
        "nouvelleMatrice <- []\n",
        "\n",
        "\n",
        "\n",
        "On affiche la matrice en résultat"
      ]
    },
    {
      "cell_type": "code",
      "metadata": {
        "id": "GsFifv2d6CDo",
        "outputId": "545859f0-5561-4a9a-f132-2d3cf7e09782",
        "colab": {
          "base_uri": "https://localhost:8080/",
          "height": 293
        }
      },
      "source": [
        "import numpy as np\n",
        "\n",
        "mat = []\n",
        "lignes = int(input(\"Lignes : \"))\n",
        "colonnes = int(input(\"Colonnes : \"))\n",
        "mat = np.zeros((lignes,colonnes))\n",
        "def matrice():\n",
        "  for j in range(0, colonnes):\n",
        "    for i in range(0,lignes):\n",
        "      mat[i,j] = input(\"Valeur : [\" + str(i) +\" , \" + str(j) + \"]\")\n",
        "  return mat\n",
        "A = matrice()\n",
        "print(A)\n",
        "B = matrice()\n",
        "print(B)\n",
        "nouvelleMatrice = []\n",
        "\n",
        "for i in range(len(A)):\n",
        "    ligne = []\n",
        "    for j in range(len(B[0])):\n",
        "      element = 0\n",
        "      for k in range(len(A[0])):\n",
        "        element = element + A[i][k] * B[k][j]\n",
        "      ligne.append(element)\n",
        "    nouvelleMatrice.append(ligne)\n",
        "print(nouvelleMatrice)\n",
        "#multiplication matricielle \n",
        "#def produitMatriciel(A, B):\n",
        "#    n = len(A)\n",
        "#    p = len(A[0])\n",
        "#    q = len(B[0])\n",
        "#    return list([sum([A[i][k]*B[k][j] for k in range(p)]) for j in range(q)] for i in range(n))\n",
        "#np.dot(A,B)"
      ],
      "execution_count": 26,
      "outputs": [
        {
          "output_type": "stream",
          "text": [
            "Lignes : 2\n",
            "Colonnes : 2\n",
            "Valeur : [0 , 0]2\n",
            "Valeur : [1 , 0]2\n",
            "Valeur : [0 , 1]2\n",
            "Valeur : [1 , 1]2\n",
            "[[2. 2.]\n",
            " [2. 2.]]\n",
            "Valeur : [0 , 0]2\n",
            "Valeur : [1 , 0]2\n",
            "Valeur : [0 , 1]2\n",
            "Valeur : [1 , 1]2\n",
            "[[2. 2.]\n",
            " [2. 2.]]\n",
            "[[8.0, 8.0], [8.0, 8.0]]\n"
          ],
          "name": "stdout"
        }
      ]
    }
  ]
}