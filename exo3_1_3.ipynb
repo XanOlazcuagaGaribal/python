{
  "nbformat": 4,
  "nbformat_minor": 0,
  "metadata": {
    "colab": {
      "name": "exo3_1-3.ipynb",
      "provenance": [],
      "authorship_tag": "ABX9TyM0YI+AmvvzC0mvMtZoX/Lr",
      "include_colab_link": true
    },
    "kernelspec": {
      "name": "python3",
      "display_name": "Python 3"
    }
  },
  "cells": [
    {
      "cell_type": "markdown",
      "metadata": {
        "id": "view-in-github",
        "colab_type": "text"
      },
      "source": [
        "<a href=\"https://colab.research.google.com/github/XanOlazcuagaGaribal/python/blob/main/exo3_1_3.ipynb\" target=\"_parent\"><img src=\"https://colab.research.google.com/assets/colab-badge.svg\" alt=\"Open In Colab\"/></a>"
      ]
    },
    {
      "cell_type": "markdown",
      "metadata": {
        "id": "9Yv1oxzWkYOk"
      },
      "source": [
        "1) Le temps d'arrêt"
      ]
    },
    {
      "cell_type": "code",
      "metadata": {
        "id": "Lx6N8kmVkMxJ"
      },
      "source": [
        ""
      ],
      "execution_count": null,
      "outputs": []
    },
    {
      "cell_type": "markdown",
      "metadata": {
        "id": "ehzKlXdnket2"
      },
      "source": [
        "2) Petite équation"
      ]
    },
    {
      "cell_type": "code",
      "metadata": {
        "id": "_hjsKb7JkiYX"
      },
      "source": [
        ""
      ],
      "execution_count": null,
      "outputs": []
    },
    {
      "cell_type": "markdown",
      "metadata": {
        "id": "uCZL5FCrkit4"
      },
      "source": [
        "3) Polynom 2"
      ]
    },
    {
      "cell_type": "code",
      "metadata": {
        "id": "yZWi1s5okl54"
      },
      "source": [
        ""
      ],
      "execution_count": null,
      "outputs": []
    }
  ]
}