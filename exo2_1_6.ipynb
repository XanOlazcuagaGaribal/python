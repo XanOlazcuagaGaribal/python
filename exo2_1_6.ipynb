{
  "nbformat": 4,
  "nbformat_minor": 0,
  "metadata": {
    "colab": {
      "name": "exo2_1-6",
      "provenance": [],
      "collapsed_sections": []
    },
    "kernelspec": {
      "name": "python3",
      "display_name": "Python 3"
    }
  },
  "cells": [
    {
      "cell_type": "markdown",
      "metadata": {
        "id": "_XicKcD8QWh1"
      },
      "source": [
        "1) La somme\n",
        "\n",
        "tableau <- [1,2,3,4,5]\n",
        "\n",
        "somme = 0\n",
        "\n",
        "Pour chaque élément i du tableau \"tableau\"\n",
        "  \n",
        "  \n",
        "> somme <- somme + i\n",
        "\n",
        "\n",
        "\n",
        "On affiche la contenu de la variable somme"
      ]
    },
    {
      "cell_type": "code",
      "metadata": {
        "id": "iQnn8I0wM3VU",
        "outputId": "e6543f8b-d51b-4c12-9716-8f4f52716380",
        "colab": {
          "base_uri": "https://localhost:8080/"
        }
      },
      "source": [
        "#2 - Les tableaux\n",
        "#1)La somme\n",
        "tableau = [1,2,3,4,5]\n",
        "somme = 0\n",
        "for i in tableau:\n",
        "  somme += i\n",
        "print(somme)\n"
      ],
      "execution_count": null,
      "outputs": [
        {
          "output_type": "stream",
          "text": [
            "15\n"
          ],
          "name": "stdout"
        }
      ]
    },
    {
      "cell_type": "markdown",
      "metadata": {
        "id": "m7kJVTdCQxne"
      },
      "source": [
        "\n",
        "2) La somme: le retour\n",
        "\n",
        "tableau1 <- [1,2,3,4]\n",
        "\n",
        "tableau2 <- [1,2,3,4]\n",
        "\n",
        "nouveauTableau <- [ ]\n",
        "\n",
        "somme <- 0\n",
        "\n",
        "Pour chaque élément i entre 0 et la longueur du tableau1\n",
        "\n",
        " > somme <- tableau1[i] + tableau2[i]\n",
        " > nouveauTableau <- [somme]\n",
        "\n",
        "On affiche le nouveau tableau\n",
        "\n"
      ]
    },
    {
      "cell_type": "code",
      "metadata": {
        "id": "8Xd_K3sUOdIR",
        "outputId": "e71f9192-6a0b-40ea-d8b0-3b50b24835f3",
        "colab": {
          "base_uri": "https://localhost:8080/",
          "height": 35
        }
      },
      "source": [
        "#2)La somme : le retour\n",
        "tableau1 = [1,2,3,4,5]\n",
        "tableau2 = [6,7,8,9,10]\n",
        "nouveauTableau = []\n",
        "somme = 0\n",
        "for i in range(0,len(tableau1)):\n",
        "  somme = tableau1[i] + tableau2[i]\n",
        "  nouveauTableau.append(somme)\n",
        "print(nouveauTableau)"
      ],
      "execution_count": 19,
      "outputs": [
        {
          "output_type": "stream",
          "text": [
            "[7, 9, 11, 13, 15]\n"
          ],
          "name": "stdout"
        }
      ]
    },
    {
      "cell_type": "markdown",
      "metadata": {
        "id": "MoLeyjdIbiIX"
      },
      "source": [
        "3) FacProduct\n",
        "\n",
        "tableau1 <- [1,2,3,4]\n",
        "\n",
        "tableau2 <- [1,2,3,4]\n",
        "\n",
        "nouveauTableau <- [ ]\n",
        "\n",
        "produit = 0\n",
        "\n",
        "somme = 0\n",
        "\n",
        "Pour chaque élément i entre 0 et longueur du tableau1\n",
        "\n",
        "> produit = tableau1[i] * tableau2[i]\n",
        "\n",
        "> nouveauTableau <- [produit]\n",
        "\n",
        "Pour chaque élement z du tableau \"nouveauTableau\"\n",
        "\n",
        "> somme = somme + z\n",
        "\n",
        "On affiche la somme\n"
      ]
    },
    {
      "cell_type": "code",
      "metadata": {
        "id": "0Nc1SfSDfIds",
        "outputId": "6c66d133-9ba9-433a-c293-7cf9a791c646",
        "colab": {
          "base_uri": "https://localhost:8080/",
          "height": 109
        }
      },
      "source": [
        "#3) FacProduit\n",
        "tableau1 = [1,2,3,4]\n",
        "tableau2 = [1,2,3,4]\n",
        "nouveauTableau = []\n",
        "produit = 0\n",
        "somme = 0\n",
        "\n",
        "for i in range(0, len(tableau1)):\n",
        "  produit = tableau1[i] * tableau2[i]\n",
        "  nouveauTableau.append(produit)\n",
        "  print(nouveauTableau)\n",
        "for z in nouveauTableau:\n",
        "  somme += z\n",
        "print(somme)\n"
      ],
      "execution_count": 15,
      "outputs": [
        {
          "output_type": "stream",
          "text": [
            "[1]\n",
            "[1, 4]\n",
            "[1, 4, 9]\n",
            "[1, 4, 9, 16]\n",
            "30\n"
          ],
          "name": "stdout"
        }
      ]
    },
    {
      "cell_type": "markdown",
      "metadata": {
        "id": "QuT27D9djf80"
      },
      "source": [
        "4)Le plus grand\n",
        "\n",
        "n <- entrée utilisateur\n",
        "\n",
        "max = 0\n",
        "\n",
        "tableau <- [ ,  ,  , n] #Tableau de taille n\n",
        "\n",
        "Pour chaque élément i du tableau\n",
        "\n",
        "> Si i > max\n",
        "\n",
        "> Alors max <- i \n",
        "\n",
        "On affiche le max\n",
        "\n",
        "\n",
        "\n",
        "\n",
        "\n"
      ]
    },
    {
      "cell_type": "code",
      "metadata": {
        "id": "kuwxtBFx6_mi",
        "outputId": "956d90b9-8b15-4fd3-9c4d-9858a470153e",
        "colab": {
          "base_uri": "https://localhost:8080/",
          "height": 72
        }
      },
      "source": [
        "from random import randint\n",
        "n = input()\n",
        "max = 0\n",
        "tableau = [randint(1,50) for x in range(int(n))]\n",
        "print(tableau)\n",
        "for i in tableau:\n",
        "  if (i > max):\n",
        "    max = i\n",
        "print(max)"
      ],
      "execution_count": 20,
      "outputs": [
        {
          "output_type": "stream",
          "text": [
            "5\n",
            "[13, 6, 21, 47, 40]\n",
            "47\n"
          ],
          "name": "stdout"
        }
      ]
    }
  ]
}