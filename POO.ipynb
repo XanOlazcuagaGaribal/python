{
  "nbformat": 4,
  "nbformat_minor": 0,
  "metadata": {
    "colab": {
      "name": "POO.ipynb",
      "provenance": [],
      "collapsed_sections": [],
      "authorship_tag": "ABX9TyPEjzNoGguCoMJ36UIwY0xr",
      "include_colab_link": true
    },
    "kernelspec": {
      "name": "python3",
      "display_name": "Python 3"
    }
  },
  "cells": [
    {
      "cell_type": "markdown",
      "metadata": {
        "id": "view-in-github",
        "colab_type": "text"
      },
      "source": [
        "<a href=\"https://colab.research.google.com/github/XanOlazcuagaGaribal/python/blob/main/POO.ipynb\" target=\"_parent\"><img src=\"https://colab.research.google.com/assets/colab-badge.svg\" alt=\"Open In Colab\"/></a>"
      ]
    },
    {
      "cell_type": "markdown",
      "metadata": {
        "id": "aFlQJyuYe-Xe"
      },
      "source": [
        "Le compte bancaire\n",
        "\n",
        "Écrire un programme python qui permet de définir une classe CompteBancaire(), qui permette d’instancier des objets tels que compte1, compte2, etc. Le constructeur de cette classe initialisera deux attributs d’instance nom et solde, avec les valeurs par défaut ’Dupont’ et 1000.\n",
        "\n",
        "Trois autres méthodes seront définies :\n",
        "\n",
        "    * depot(somme) permettra d’ajouter une certaine somme au solde ;\n",
        "\n",
        "    * retrait(somme) permettra de retirer une certaine somme du solde ;\n",
        "\n",
        "    * affiche() permettra d’afficher le nom du titulaire et le solde de son compte.\n"
      ]
    },
    {
      "cell_type": "code",
      "metadata": {
        "id": "GtI43aLbe8fw",
        "outputId": "fa2e731e-c094-4466-eec6-af68a853048e",
        "colab": {
          "base_uri": "https://localhost:8080/",
          "height": 54
        }
      },
      "source": [
        "class CompteBancaire():\n",
        "  def __init__(self,nom=\"Dupont\",solde=1000):\n",
        "    self.nom =  nom\n",
        "    self.solde = solde\n",
        "\n",
        "  def depot(self,somme):\n",
        "    self.solde += somme;\n",
        "   \n",
        "  def retrait(self,somme):\n",
        "    self.solde -= somme;\n",
        "  \n",
        "  def affiche(self):\n",
        "    print(\"Le solde du compte bancaire de \" + self.nom + \" est de \" + str(self.solde))\n",
        "\n",
        "  \n",
        "Compte_1 = CompteBancaire(\"Dutrou\",1000)\n",
        "Compte_1.depot(350)\n",
        "Compte_1.retrait(200)\n",
        "Compte_1.affiche()\n",
        "\n",
        "Compte_2 = CompteBancaire()\n",
        "Compte_2.depot(25)\n",
        "Compte_2.affiche()"
      ],
      "execution_count": 32,
      "outputs": [
        {
          "output_type": "stream",
          "text": [
            "Le solde du compte bancaire de Dutrou est de 1150\n",
            "Le solde du compte bancaire de Dupont est de 1025\n"
          ],
          "name": "stdout"
        }
      ]
    },
    {
      "cell_type": "markdown",
      "metadata": {
        "id": "UOXv1zfkkxkP"
      },
      "source": [
        "La surcharge d'opérateur\n",
        "\n",
        "Définir une classe Point avec un constructeur, un point est définit soit par deux coordonnées x et y, s’il s’agit d’une représentation d’un point au plan ou par trois coordonnées x, y et z, s’il s’agit d’une représentation d’un point en espace.\n",
        "\n",
        "La classe Point doit contenir une méthode ToString qui affiche le point."
      ]
    },
    {
      "cell_type": "code",
      "metadata": {
        "id": "saArb_Ock2ER",
        "outputId": "a35555c6-bb83-4dc1-b8ab-e2d611693b1d",
        "colab": {
          "base_uri": "https://localhost:8080/",
          "height": 35
        }
      },
      "source": [
        "class Point():\n",
        "  def __init__(self,x,y,z=None):\n",
        "    self.x = x\n",
        "    self.y = y\n",
        "    self.z = z if z is not None else \"\"\n",
        "  def ToString(self):\n",
        "    if(str(self.z)!=\"\"):\n",
        "      print(\"P (\" + str(self.x) + \", \" + str(self.y)+\", \" + str(self.z)+\")\")\n",
        "    else:\n",
        "      print(\"P (\" + str(self.x) + \", \" + str(self.y)+\") \")\n",
        "\n",
        "P1 = Point(2,3, 4)\n",
        "P1.ToString()"
      ],
      "execution_count": 57,
      "outputs": [
        {
          "output_type": "stream",
          "text": [
            "P (2, 3, 4)\n"
          ],
          "name": "stdout"
        }
      ]
    },
    {
      "cell_type": "markdown",
      "metadata": {
        "id": "_GKyAdJtoglW"
      },
      "source": [
        "L'héritage simple\n",
        "\n",
        "Définir les classes suivantes:\n",
        "\n",
        "    * Une classe DateNaissance avec trois attributs, jour, mois, année et une méthode ToString qui convertit la date de naissance en chaine de caractères\n",
        "\n",
        "    * Une classe Personne avec trois attributs, nom, prénom et date de naissance et une méthode polymorphe Afficher pour afficher les données de chaque personne.\n",
        "\n",
        "    * Une classe Employé qui dérive de la classe Personne, avec en plus un attribut Salaire et la redéfinition de la méthode Afficher.\n",
        "\n",
        "    * Une classe Chef qui dérive de la classe Employé, avec en plus un attribut Service et la redéfinition de la méthode Afficher.\n"
      ]
    },
    {
      "cell_type": "code",
      "metadata": {
        "id": "eQrHwyrFog3R",
        "outputId": "d2071406-898d-44ce-fb0f-f86ee570a60d",
        "colab": {
          "base_uri": "https://localhost:8080/",
          "height": 109
        }
      },
      "source": [
        "class DateNaissance():\n",
        "  def __init__(self, jour, mois, année):\n",
        "    self.jour = jour\n",
        "    self.mois = mois\n",
        "    self.année = année\n",
        "    if(jour < 10):\n",
        "      nouveau_jour = str(jour)\n",
        "      self.jour =  nouveau_jour.zfill(2)\n",
        "    if(mois < 10):\n",
        "      nouveau_mois = str(mois)\n",
        "      self.mois =  nouveau_mois.zfill(2)\n",
        "  def afficher(self):\n",
        "    date = str(self.jour)+\"/\"+str(self.mois)+\"/\"+str(self.année)\n",
        "    print(\"Date de naissance : \" + date)\n",
        "    #return \"%02d / %02d / %d\" %(self.jour,self.mois,self.annee)\n",
        "\n",
        "class Personne():\n",
        "  def __init__(self, nom,prenom,date_naissance):\n",
        "    self.nom = nom\n",
        "    self.prenom = prenom\n",
        "    self.date_naissance = date_naissance\n",
        "\n",
        "  def afficher(self):\n",
        "    print(\"Nom: \" +str(self.nom))\n",
        "    print(\"Prénom: \" +str(self.prenom))\n",
        "    self.date_naissance.afficher()\n",
        "\n",
        "class Employe(Personne):\n",
        "  def __init__(self,nom,prenom, date_naissance,salaire):\n",
        "    Personne.__init__(self,nom,prenom,date_naissance)\n",
        "    self.salaire = salaire\n",
        "\n",
        "  def afficher(self):\n",
        "    Personne.afficher(self)\n",
        "    print('Salaire: ', self.salaire)\n",
        "\n",
        "class Chef(Employe):\n",
        "  def __init__(self,nom,prenom, date_naissance,salaire,service):\n",
        "    Employe.__init__(self,nom,prenom,date_naissance,salaire)\n",
        "    self.service = service\n",
        "\n",
        "  def afficher(self):\n",
        "    Employe.afficher(self)\n",
        "    print('Service: ', self.service)\n",
        "\n",
        "test2 = Chef(\"Dupont\",\"Marc\",DateNaissance(1,9,1999),2500,\"Sécurité\")\n",
        "test2.afficher()"
      ],
      "execution_count": 82,
      "outputs": [
        {
          "output_type": "stream",
          "text": [
            "Nom: Dupont\n",
            "Prénom: Marc\n",
            "Date de naissance : 01/09/1999\n",
            "Salaire:  2500\n",
            "Service:  Sécurité\n"
          ],
          "name": "stdout"
        }
      ]
    },
    {
      "cell_type": "markdown",
      "metadata": {
        "id": "sLZO1xl_7Mx0"
      },
      "source": [
        "Exercice sur le polymorphisme\n",
        "\n",
        "Consignes\n",
        "\n",
        "Une boîtes aux lettres recueille des courrier qui peuvent être des lettres ou des colis.\n",
        "\n",
        "Une lettre est caractérisée par :\n",
        "\n",
        "son poids (en grammes) le mode d’expédition (express ou normal) son adresse de destination son adresse d’expédition son format (“A3” ou “A4”) \n",
        "\n",
        "Un colis est caractérisé par :\n",
        "\n",
        "son poids (en grammes) le mode d’expédition (express ou normal) son adresse de destination son adresse d’expédition son volume (en litres ) \n",
        "\n",
        "Il faut donc définir aussi les deux méthodes:\n",
        "\n",
        "calculTimbre: qui calcule le prix du Timbre \n",
        "\n",
        "ToString qui affiche un courrier \n",
        "\n",
        "Règles pour calculer le prix du Timbre :\n",
        "\n",
        "en mode d’expédition normal :\n",
        "\n",
        "Le montant nécessaire pour affranchir une lettre dépend de son format et de son poids : Formule : montant = tarif de base + 1.0 * poids (kilos), où le tarif de base pour une lettre “A4” est de 2.50, et 3.50 pour une lettre “A3”\n",
        "\n",
        "Le montant nécessaire pour affranchir un colis dépend de son poids et de son volume : Formule : montant = 0.25 volume (litres) * poids (kilos) 1.0\n",
        "\n",
        "en mode d’expédition express : les montants précédents sont doublés, quelque soit le type de courrier"
      ]
    },
    {
      "cell_type": "code",
      "metadata": {
        "id": "2omHddJi7NCN",
        "outputId": "62151659-76ee-4970-f1c6-4da6a3cc3e09",
        "colab": {
          "base_uri": "https://localhost:8080/",
          "height": 274
        }
      },
      "source": [
        "class Expedition :\n",
        "  def __init__(self,poids,mode_expedition,adresse_destination,adresse_expedition) :\n",
        "    self.poids = poids\n",
        "    self.adresse_destination = adresse_destination\n",
        "    self.adresse_expedition = adresse_expedition\n",
        "    self.mode_expedition = mode_expedition\n",
        "\n",
        "    #if self.mode_expedition != \"normal\" or self.mode_expedition != \"express\" :\n",
        "      #print(\"Le mode d'expédition n'est pas correct. Choisissez entre normal ou express\")\n",
        "    \n",
        "  def ToString(self) :\n",
        "    print(\"Poids du courrier : \"+str(self.poids))\n",
        "    print(\"Mode d'expédition : \"+self.mode_expedition)\n",
        "    print(\"Adresse de destination : \" +self.adresse_destination)\n",
        "    print(\"Adresse d'expédition : \" +self.adresse_expedition)\n",
        "\n",
        "class Lettre(Expedition) :\n",
        "\n",
        "  def __init__(self,poids,mode_expedition,adresse_destination,adresse_expedition,format) :\n",
        "    Expedition.__init__(self,poids,mode_expedition,adresse_destination,adresse_expedition)\n",
        "    self.format = format\n",
        "  \n",
        "  def CalculTimbre(self) :\n",
        "    \n",
        "    if self.format == \"A4\" : \n",
        "      montant = 2.50 + 1.0*(self.poids*0.001)\n",
        "\n",
        "      if self.mode_expedition == \"express\" :\n",
        "        montant = montant*2\n",
        "\n",
        "    elif self.format == \"A3\" : \n",
        "      montant = 3.50 + 1.0 *(self.poids*0.001)\n",
        "\n",
        "      if self.mode_expedition == \"express\" :\n",
        "        montant = montant * 2\n",
        "    \n",
        "    else :\n",
        "      print('Le format n\\'est pas correcte. Veuillez choisir entre le format A3 et A4')\n",
        "    \n",
        "    return montant\n",
        "    \n",
        "  def ToString(self) :\n",
        "    print(\"Lettre :\")\n",
        "    Expedition.ToString(self)\n",
        "    print(\"Format : \"+self.format)\n",
        "    print(\"Prix du timbre : \"+str(self.CalculTimbre()))\n",
        "  \n",
        "class Colis(Expedition) :\n",
        "\n",
        "  def __init__(self, poids,mode_expedition, adresse_destination, adresse_expedition, volume) :\n",
        "    Expedition.__init__(self, poids,mode_expedition,adresse_destination,adresse_expedition)\n",
        "    self.volume = volume\n",
        "  \n",
        "  def CalculTimbre(self) :\n",
        "    \n",
        "    montant = 0.25*self.volume*self.poids*0.001\n",
        "\n",
        "    if self.mode_expedition == \"express\" :\n",
        "      montant = montant*2\n",
        "    return montant\n",
        "\n",
        "  def ToString(self) :\n",
        "    print(\"Colis :\")\n",
        "    Expedition.ToString(self)\n",
        "    print(\"Volume : \" +str(self.volume))\n",
        "    print(\"Prix du timbre : \"+str(self.CalculTimbre()))\n",
        "\n",
        "#Exec\n",
        "L1 = Lettre(80,\"normal\" ,\"Lille\", \"Paris\",\"A4\")\n",
        "L1.ToString()\n",
        "print(\"------\")\n",
        "C1 = Colis(3500, \"express\", \"Marrakech\", \"Barcelone\",2.25)\n",
        "C1.ToString()"
      ],
      "execution_count": 98,
      "outputs": [
        {
          "output_type": "stream",
          "text": [
            "Lettre :\n",
            "Adresse destination:  Lille\n",
            "Adresse expedition:  Paris\n",
            "Poids:  80  grammes\n",
            "Mode:  normal\n",
            "Format:  A4\n",
            "Prix du timbre :0.2\n",
            "Colis :\n",
            "Adresse destination:  Marrakeche\n",
            "Adresse expedition:  Barcelone\n",
            "Poids:  3500  grammes\n",
            "Mode:  expresse\n",
            "Volume:  2.25  litres\n",
            "Prix du timbre :3.9375\n"
          ],
          "name": "stdout"
        }
      ]
    }
  ]
}