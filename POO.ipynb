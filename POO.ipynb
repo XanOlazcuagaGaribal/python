{
  "nbformat": 4,
  "nbformat_minor": 0,
  "metadata": {
    "colab": {
      "name": "POO.ipynb",
      "provenance": [],
      "collapsed_sections": [],
      "authorship_tag": "ABX9TyNA6VaKiUzGcjhBSDRNBltv",
      "include_colab_link": true
    },
    "kernelspec": {
      "name": "python3",
      "display_name": "Python 3"
    }
  },
  "cells": [
    {
      "cell_type": "markdown",
      "metadata": {
        "id": "view-in-github",
        "colab_type": "text"
      },
      "source": [
        "<a href=\"https://colab.research.google.com/github/XanOlazcuagaGaribal/python/blob/main/POO.ipynb\" target=\"_parent\"><img src=\"https://colab.research.google.com/assets/colab-badge.svg\" alt=\"Open In Colab\"/></a>"
      ]
    },
    {
      "cell_type": "markdown",
      "metadata": {
        "id": "aFlQJyuYe-Xe"
      },
      "source": [
        "Le compte bancaire\n",
        "\n",
        "Écrire un programme python qui permet de définir une classe CompteBancaire(), qui permette d’instancier des objets tels que compte1, compte2, etc. Le constructeur de cette classe initialisera deux attributs d’instance nom et solde, avec les valeurs par défaut ’Dupont’ et 1000.\n",
        "\n",
        "Trois autres méthodes seront définies :\n",
        "\n",
        "    * depot(somme) permettra d’ajouter une certaine somme au solde ;\n",
        "\n",
        "    * retrait(somme) permettra de retirer une certaine somme du solde ;\n",
        "\n",
        "    * affiche() permettra d’afficher le nom du titulaire et le solde de son compte.\n"
      ]
    },
    {
      "cell_type": "code",
      "metadata": {
        "id": "GtI43aLbe8fw",
        "outputId": "fa2e731e-c094-4466-eec6-af68a853048e",
        "colab": {
          "base_uri": "https://localhost:8080/",
          "height": 54
        }
      },
      "source": [
        "class CompteBancaire():\n",
        "  def __init__(self,nom=\"Dupont\",solde=1000):\n",
        "    self.nom =  nom\n",
        "    self.solde = solde\n",
        "\n",
        "  def depot(self,somme):\n",
        "    self.solde += somme;\n",
        "   \n",
        "  def retrait(self,somme):\n",
        "    self.solde -= somme;\n",
        "  \n",
        "  def affiche(self):\n",
        "    print(\"Le solde du compte bancaire de \" + self.nom + \" est de \" + str(self.solde))\n",
        "\n",
        "  \n",
        "Compte_1 = CompteBancaire(\"Dutrou\",1000)\n",
        "Compte_1.depot(350)\n",
        "Compte_1.retrait(200)\n",
        "Compte_1.affiche()\n",
        "\n",
        "Compte_2 = CompteBancaire()\n",
        "Compte_2.depot(25)\n",
        "Compte_2.affiche()"
      ],
      "execution_count": 32,
      "outputs": [
        {
          "output_type": "stream",
          "text": [
            "Le solde du compte bancaire de Dutrou est de 1150\n",
            "Le solde du compte bancaire de Dupont est de 1025\n"
          ],
          "name": "stdout"
        }
      ]
    },
    {
      "cell_type": "markdown",
      "metadata": {
        "id": "UOXv1zfkkxkP"
      },
      "source": [
        "La surcharge d'opérateur\n",
        "\n",
        "Définir une classe Point avec un constructeur, un point est définit soit par deux coordonnées x et y, s’il s’agit d’une représentation d’un point au plan ou par trois coordonnées x, y et z, s’il s’agit d’une représentation d’un point en espace.\n",
        "\n",
        "La classe Point doit contenir une méthode ToString qui affiche le point."
      ]
    },
    {
      "cell_type": "code",
      "metadata": {
        "id": "saArb_Ock2ER",
        "outputId": "a35555c6-bb83-4dc1-b8ab-e2d611693b1d",
        "colab": {
          "base_uri": "https://localhost:8080/",
          "height": 35
        }
      },
      "source": [
        "class Point():\n",
        "  def __init__(self,x,y,z=None):\n",
        "    self.x = x\n",
        "    self.y = y\n",
        "    self.z = z if z is not None else \"\"\n",
        "  def ToString(self):\n",
        "    if(str(self.z)!=\"\"):\n",
        "      print(\"P (\" + str(self.x) + \", \" + str(self.y)+\", \" + str(self.z)+\")\")\n",
        "    else:\n",
        "      print(\"P (\" + str(self.x) + \", \" + str(self.y)+\") \")\n",
        "\n",
        "P1 = Point(2,3, 4)\n",
        "P1.ToString()"
      ],
      "execution_count": 57,
      "outputs": [
        {
          "output_type": "stream",
          "text": [
            "P (2, 3, 4)\n"
          ],
          "name": "stdout"
        }
      ]
    },
    {
      "cell_type": "markdown",
      "metadata": {
        "id": "_GKyAdJtoglW"
      },
      "source": [
        "L'héritage simple\n",
        "\n",
        "Définir les classes suivantes:\n",
        "\n",
        "    * Une classe DateNaissance avec trois attributs, jour, mois, année et une méthode ToString qui convertit la date de naissance en chaine de caractères\n",
        "\n",
        "    * Une classe Personne avec trois attributs, nom, prénom et date de naissance et une méthode polymorphe Afficher pour afficher les données de chaque personne.\n",
        "\n",
        "    * Une classe Employé qui dérive de la classe Personne, avec en plus un attribut Salaire et la redéfinition de la méthode Afficher.\n",
        "\n",
        "    * Une classe Chef qui dérive de la classe Employé, avec en plus un attribut Service et la redéfinition de la méthode Afficher.\n"
      ]
    },
    {
      "cell_type": "code",
      "metadata": {
        "id": "eQrHwyrFog3R",
        "outputId": "5e91b883-4638-4e14-efda-ebc30ecdfcfe",
        "colab": {
          "base_uri": "https://localhost:8080/",
          "height": 109
        }
      },
      "source": [
        "class DateNaissance():\n",
        "  def __init__(self, jour, mois, année):\n",
        "    self.jour = jour\n",
        "    self.mois = mois\n",
        "    self.année = année\n",
        "    if(jour < 10):\n",
        "      nouveau_jour = str(jour)\n",
        "      self.jour =  nouveau_jour.zfill(2)\n",
        "    if(mois < 10):\n",
        "      nouveau_mois = str(mois)\n",
        "      self.mois =  nouveau_mois.zfill(2)\n",
        "  def afficher(self):\n",
        "    date = str(self.jour)+\"/\"+str(self.mois)+\"/\"+str(self.année)\n",
        "    print(\"Date de naissance : \" + date)\n",
        "\n",
        "class Personne():\n",
        "  def __init__(self, nom,prenom,date_naissance):\n",
        "    self.nom = nom\n",
        "    self.prenom = prenom\n",
        "    self.date_naissance = date_naissance\n",
        "\n",
        "  def afficher(self):\n",
        "    print(\"Nom: \" +str(self.nom))\n",
        "    print(\"Prénom: \" +str(self.prenom))\n",
        "    self.date_naissance.afficher()\n",
        "\n",
        "class Employe(Personne):\n",
        "  def __init__(self,nom,prenom, date_naissance,salaire):\n",
        "    Personne.__init__(self,nom,prenom,date_naissance)\n",
        "    self.salaire = salaire\n",
        "\n",
        "  def afficher(self):\n",
        "    Personne.afficher(self)\n",
        "    print('Salaire: ', self.salaire)\n",
        "\n",
        "class Chef(Employe):\n",
        "  def __init__(self,nom,prenom, date_naissance,salaire,service):\n",
        "    Employe.__init__(self,nom,prenom,date_naissance,salaire)\n",
        "    self.service = service\n",
        "\n",
        "  def afficher(self):\n",
        "    Employe.afficher(self)\n",
        "    print('Service: ', self.service)\n",
        "\n",
        "test2 = Chef(\"Dupont\",\"Marc\",DateNaissance(1,9,1999),2500,\"Sécurité\")\n",
        "test2.afficher()"
      ],
      "execution_count": 80,
      "outputs": [
        {
          "output_type": "stream",
          "text": [
            "Nom: Dupont\n",
            "Prénom: Marc\n",
            "Date de naissance : 01/09/1999\n",
            "Salaire:  2500\n",
            "Service:  Sécurité\n"
          ],
          "name": "stdout"
        }
      ]
    }
  ]
}