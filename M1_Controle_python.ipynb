{
  "nbformat": 4,
  "nbformat_minor": 0,
  "metadata": {
    "colab": {
      "name": "M1_Controle_python.ipynb",
      "provenance": [],
      "collapsed_sections": [],
      "authorship_tag": "ABX9TyNdI4ZozD91vA3gX+pUa+6J",
      "include_colab_link": true
    },
    "kernelspec": {
      "name": "python3",
      "display_name": "Python 3"
    }
  },
  "cells": [
    {
      "cell_type": "markdown",
      "metadata": {
        "id": "view-in-github",
        "colab_type": "text"
      },
      "source": [
        "<a href=\"https://colab.research.google.com/github/XanOlazcuagaGaribal/python/blob/main/M1_Controle_python.ipynb\" target=\"_parent\"><img src=\"https://colab.research.google.com/assets/colab-badge.svg\" alt=\"Open In Colab\"/></a>"
      ]
    },
    {
      "cell_type": "markdown",
      "metadata": {
        "id": "kOxUwt0GoHdS"
      },
      "source": [
        "OLAZCUAGA GARIBAL Xan\n",
        "M1 Tech Lead"
      ]
    },
    {
      "cell_type": "markdown",
      "metadata": {
        "id": "rBa0Qt7RoNvS"
      },
      "source": [
        "#1) Carré "
      ]
    },
    {
      "cell_type": "code",
      "metadata": {
        "id": "uiKoG_4DoKZT",
        "outputId": "4ba1b179-7665-4af7-d570-22ffb09753f4",
        "colab": {
          "base_uri": "https://localhost:8080/"
        }
      },
      "source": [
        "A = input()\n",
        "def carre(A):\n",
        "  B = 0\n",
        "  B = int(A) * int(A)\n",
        "  print(B)\n",
        "carre(A)"
      ],
      "execution_count": 22,
      "outputs": [
        {
          "output_type": "stream",
          "text": [
            "5\n",
            "25\n"
          ],
          "name": "stdout"
        }
      ]
    },
    {
      "cell_type": "markdown",
      "metadata": {
        "id": "K-PXidRfojbA"
      },
      "source": [
        "#2) Produit"
      ]
    },
    {
      "cell_type": "code",
      "metadata": {
        "id": "yQHbaSqyosq8",
        "outputId": "ce6dde1c-5181-4f45-f0f9-b9a67a607842",
        "colab": {
          "base_uri": "https://localhost:8080/"
        }
      },
      "source": [
        "def produit():\n",
        "  A = input()\n",
        "  B = input()\n",
        "  if((int(A) >= 0) and (int(B) >= 0)):\n",
        "    print(\"Le produit est positif\")\n",
        "  if((int(A) < 0) and (int(B) < 0)):\n",
        "    print(\"Le produit est positif\")\n",
        "  if((int(A) > 0) and (int(B) < 0)):\n",
        "    print(\"Le produit est négatif\")\n",
        "  if((int(A) < 0) and (int(B) > 0)):\n",
        "    print(\"Le produit est négatif\")\n",
        "  if((int(A) == 0) and (int(B) < 0)):\n",
        "    print(\"Le produit est négatif\")\n",
        "  if((int(A) < 0) and (int(B) == 0)):\n",
        "    print(\"Le produit est négatif\")\n",
        "produit()"
      ],
      "execution_count": 6,
      "outputs": [
        {
          "output_type": "stream",
          "text": [
            "0\n",
            "-5\n",
            "Le produit est positif\n"
          ],
          "name": "stdout"
        }
      ]
    },
    {
      "cell_type": "markdown",
      "metadata": {
        "id": "YsK37CEFpNJs"
      },
      "source": [
        "#3)Somme"
      ]
    },
    {
      "cell_type": "code",
      "metadata": {
        "id": "C0H1uXnMpPMD",
        "outputId": "67e21d0d-9c6c-48fb-a846-46470aecb822",
        "colab": {
          "base_uri": "https://localhost:8080/"
        }
      },
      "source": [
        "def somme()\n",
        "  A = input()\n",
        "  B = 0\n",
        "  for i in range(int(A)+1):\n",
        "    B += i\n",
        "  print(B)\n",
        "somme()"
      ],
      "execution_count": 7,
      "outputs": [
        {
          "output_type": "stream",
          "text": [
            "5\n",
            "15\n"
          ],
          "name": "stdout"
        }
      ]
    },
    {
      "cell_type": "markdown",
      "metadata": {
        "id": "c6Oa260kpdGN"
      },
      "source": [
        "#4) FacProduit"
      ]
    },
    {
      "cell_type": "code",
      "metadata": {
        "id": "v8ImS8s1pfzR",
        "outputId": "e7ecdf86-5c39-4f07-efaa-8a6836350fb2",
        "colab": {
          "base_uri": "https://localhost:8080/"
        }
      },
      "source": [
        "tableau1 = [1,2,3]\n",
        "tableau2 = [1,2,2]\n",
        "nouveauTableau = []\n",
        "produit = 0\n",
        "somme = 0\n",
        "\n",
        "for i in range(0, len(tableau1)):\n",
        "  produit = tableau1[i] * tableau2[i]\n",
        "  nouveauTableau.append(produit)\n",
        "  print(nouveauTableau)\n",
        "for z in nouveauTableau:\n",
        "  somme += z\n",
        "print(somme)"
      ],
      "execution_count": 20,
      "outputs": [
        {
          "output_type": "stream",
          "text": [
            "[1]\n",
            "[1, 4]\n",
            "[1, 4, 6]\n",
            "11\n"
          ],
          "name": "stdout"
        }
      ]
    },
    {
      "cell_type": "markdown",
      "metadata": {
        "id": "haYptYDQp__d"
      },
      "source": [
        "#5) Minimum"
      ]
    },
    {
      "cell_type": "code",
      "metadata": {
        "id": "ca01n85lqUH8",
        "outputId": "1bb0667d-46f8-4ee2-f5a4-658da7fbc6e9",
        "colab": {
          "base_uri": "https://localhost:8080/"
        }
      },
      "source": [
        "from random import randint\n",
        "n = input()\n",
        "tableau = [randint(1,50) for x in range(int(n))]\n",
        "print(tableau)\n",
        "min = tableau[0] \n",
        "#On défini le minimum comme étant le premier élément du tableau pour le comparer aux autres éléments\n",
        "for i in tableau:\n",
        "  if (i < min):\n",
        "    min = i\n",
        "print(min)"
      ],
      "execution_count": 10,
      "outputs": [
        {
          "output_type": "stream",
          "text": [
            "5\n",
            "[30, 34, 7, 4, 12]\n",
            "4\n"
          ],
          "name": "stdout"
        }
      ]
    },
    {
      "cell_type": "markdown",
      "metadata": {
        "id": "Co11V0SwqTZo"
      },
      "source": [
        "#6) Tri"
      ]
    },
    {
      "cell_type": "code",
      "metadata": {
        "id": "Pl7dsE51q5LY",
        "outputId": "229e6b1e-76cd-4487-abd7-346a4bb81c38",
        "colab": {
          "base_uri": "https://localhost:8080/"
        }
      },
      "source": [
        "tableau = [5,2,58,0]\n",
        "for i in range(1,len(tableau)):\n",
        "  clee = tableau[i]\n",
        "  j = i-1\n",
        "  while (j>=0) and clee < tableau[j]:\n",
        "    tableau[j+1] = tableau[j]\n",
        "    j-=1\n",
        "  tableau[j+1]=clee\n",
        "print(tableau)"
      ],
      "execution_count": 14,
      "outputs": [
        {
          "output_type": "stream",
          "text": [
            "[0, 2, 5, 58]\n"
          ],
          "name": "stdout"
        }
      ]
    },
    {
      "cell_type": "markdown",
      "metadata": {
        "id": "PHEfgUJts_EL"
      },
      "source": [
        "#7) Carré & liste"
      ]
    },
    {
      "cell_type": "code",
      "metadata": {
        "id": "gEnMbyJ2tEr0",
        "outputId": "c89ef264-cc3b-4611-9057-95b247425f47",
        "colab": {
          "base_uri": "https://localhost:8080/"
        }
      },
      "source": [
        "tableau = [5,2,58,0]\n",
        "nouveauTableau = []\n",
        "carre = 0\n",
        "\n",
        "for i in range(0,len(tableau)):\n",
        "  #carre = carre(int(tableau[i]))\n",
        "  carre = tableau[i] * tableau[i]\n",
        "  nouveauTableau.append(carre)\n",
        "  print(nouveauTableau)\n"
      ],
      "execution_count": 27,
      "outputs": [
        {
          "output_type": "stream",
          "text": [
            "[25]\n",
            "[25, 4]\n",
            "[25, 4, 3364]\n",
            "[25, 4, 3364, 0]\n"
          ],
          "name": "stdout"
        }
      ]
    },
    {
      "cell_type": "markdown",
      "metadata": {
        "id": "v17IsmKkvB5D"
      },
      "source": [
        "#8) valeur du plus petit doublon"
      ]
    },
    {
      "cell_type": "code",
      "metadata": {
        "id": "VCCHqmcmvFF4"
      },
      "source": [
        ""
      ],
      "execution_count": null,
      "outputs": []
    },
    {
      "cell_type": "markdown",
      "metadata": {
        "id": "09rqv4idvFMo"
      },
      "source": [
        "#9) Multiplication matricielle"
      ]
    },
    {
      "cell_type": "code",
      "metadata": {
        "id": "rX2j6aBMvJwK",
        "outputId": "037812b1-b4cb-465a-fccf-679e9657da3f",
        "colab": {
          "base_uri": "https://localhost:8080/"
        }
      },
      "source": [
        "A = [[1,2],[3,4]]\n",
        "B = [[1,3],[2,4]]\n",
        "nouvelleMatrice = []\n",
        "for i in range(len(A)):\n",
        "    ligne = []\n",
        "    for j in range(len(B[0])):\n",
        "      element = 0\n",
        "      for k in range(len(A[0])):\n",
        "        element = element + A[i][k] * B[k][j]\n",
        "      ligne.append(element)\n",
        "    nouvelleMatrice.append(ligne)\n",
        "print(nouvelleMatrice)"
      ],
      "execution_count": 31,
      "outputs": [
        {
          "output_type": "stream",
          "text": [
            "[[5, 11], [11, 25]]\n"
          ],
          "name": "stdout"
        }
      ]
    },
    {
      "cell_type": "markdown",
      "metadata": {
        "id": "ukhs2RxNvJ1i"
      },
      "source": [
        "#10) POO"
      ]
    },
    {
      "cell_type": "markdown",
      "metadata": {
        "id": "PnwmzpgivL_9"
      },
      "source": [
        "La programmation orientée objet consiste a créer différents objets qui vont intéragir eux. Par exemple nous créons des classes qui seront des objets et ils vont intéragir.\n",
        "\n",
        "L'héritage permet a une classe d'avoir les même caractéristiques qu'une autre classe tout en ayant de nouveaux attributs.Par exemple une voiture et une voiture de sport, la voiture de sport hérite de la voiture car c'est une voiture mais des attribuits supplémentaires.\n",
        "\n"
      ]
    }
  ]
}