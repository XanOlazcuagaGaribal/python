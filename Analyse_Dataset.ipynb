{
  "nbformat": 4,
  "nbformat_minor": 0,
  "metadata": {
    "colab": {
      "name": "Analyse_Dataset.ipynb",
      "provenance": [],
      "collapsed_sections": [],
      "authorship_tag": "ABX9TyOokz1k4pmNePpleSolL+lD",
      "include_colab_link": true
    },
    "kernelspec": {
      "name": "python3",
      "display_name": "Python 3"
    }
  },
  "cells": [
    {
      "cell_type": "markdown",
      "metadata": {
        "id": "view-in-github",
        "colab_type": "text"
      },
      "source": [
        "<a href=\"https://colab.research.google.com/github/XanOlazcuagaGaribal/python/blob/main/Analyse_Dataset.ipynb\" target=\"_parent\"><img src=\"https://colab.research.google.com/assets/colab-badge.svg\" alt=\"Open In Colab\"/></a>"
      ]
    },
    {
      "cell_type": "markdown",
      "metadata": {
        "id": "4358h7RO02Z9"
      },
      "source": [
        "#Analyse de dataset\n",
        "\n",
        "Dataset sur la vente de jeux vidéos entre 1980 et 2020\n"
      ]
    },
    {
      "cell_type": "code",
      "metadata": {
        "id": "4HYm1AVOMogs",
        "outputId": "d3757bae-3f92-48c5-f2cb-ccd695729075",
        "colab": {
          "base_uri": "https://localhost:8080/"
        }
      },
      "source": [
        "import pandas as pd \n",
        "import numpy as np \n",
        "import seaborn as sns\n",
        "import matplotlib.pyplot as plt \n",
        "%matplotlib inline\n",
        "\n",
        "from google.colab import drive\n",
        "drive.mount('/content/gdrive')\n",
        "root_path = 'gdrive/My Drive/DC/Algorithmie/Data/Games/'\n",
        "games = pd.read_csv(root_path + \"vgsales.csv\", sep=\",\")"
      ],
      "execution_count": 1,
      "outputs": [
        {
          "output_type": "stream",
          "text": [
            "Mounted at /content/gdrive\n"
          ],
          "name": "stdout"
        }
      ]
    },
    {
      "cell_type": "code",
      "metadata": {
        "id": "tR7zDmTuPCYR",
        "outputId": "644d4408-0371-4841-c099-34efaf366246",
        "colab": {
          "base_uri": "https://localhost:8080/"
        }
      },
      "source": [
        "games.info()"
      ],
      "execution_count": 2,
      "outputs": [
        {
          "output_type": "stream",
          "text": [
            "<class 'pandas.core.frame.DataFrame'>\n",
            "RangeIndex: 16598 entries, 0 to 16597\n",
            "Data columns (total 11 columns):\n",
            " #   Column        Non-Null Count  Dtype  \n",
            "---  ------        --------------  -----  \n",
            " 0   Rank          16598 non-null  int64  \n",
            " 1   Name          16598 non-null  object \n",
            " 2   Platform      16598 non-null  object \n",
            " 3   Year          16327 non-null  float64\n",
            " 4   Genre         16598 non-null  object \n",
            " 5   Publisher     16540 non-null  object \n",
            " 6   NA_Sales      16598 non-null  float64\n",
            " 7   EU_Sales      16598 non-null  float64\n",
            " 8   JP_Sales      16598 non-null  float64\n",
            " 9   Other_Sales   16598 non-null  float64\n",
            " 10  Global_Sales  16598 non-null  float64\n",
            "dtypes: float64(6), int64(1), object(4)\n",
            "memory usage: 1.4+ MB\n"
          ],
          "name": "stdout"
        }
      ]
    },
    {
      "cell_type": "markdown",
      "metadata": {
        "id": "9LYDsZtGPq2u"
      },
      "source": [
        " Les colonnes correspondent à:\n",
        " - **Rank**: Rang du jeu\n",
        " - **Name**: Nom du jeu\n",
        " - **Platform**: Plateforme de publication du jeu\n",
        " - **Year**: Année de sortie du jeu en **float**\n",
        " - **Genre**: Genre du jeu\n",
        " - **Publisher**: Studio de création du jeu\n",
        " - **NA_Sales**: Nombre de ventes en Amérique du Nord en million\n",
        " - **EU_Sales**: Nombre de ventes en Europe en million\n",
        " - **JP_Sales**: Nombre de ventes au Japon en million\n",
        " - **Other_Sales**: Nombre de ventes dans les autres pays en million\n",
        " - **Global_Sales**: Nombre de ventes totales en million\n"
      ]
    },
    {
      "cell_type": "code",
      "metadata": {
        "id": "Se5oFRDSNc9t",
        "outputId": "da4faccb-7f17-4f39-98ce-c6a10fc8f3d5",
        "colab": {
          "base_uri": "https://localhost:8080/",
          "height": 206
        }
      },
      "source": [
        "games.head(5)"
      ],
      "execution_count": 5,
      "outputs": [
        {
          "output_type": "execute_result",
          "data": {
            "text/html": [
              "<div>\n",
              "<style scoped>\n",
              "    .dataframe tbody tr th:only-of-type {\n",
              "        vertical-align: middle;\n",
              "    }\n",
              "\n",
              "    .dataframe tbody tr th {\n",
              "        vertical-align: top;\n",
              "    }\n",
              "\n",
              "    .dataframe thead th {\n",
              "        text-align: right;\n",
              "    }\n",
              "</style>\n",
              "<table border=\"1\" class=\"dataframe\">\n",
              "  <thead>\n",
              "    <tr style=\"text-align: right;\">\n",
              "      <th></th>\n",
              "      <th>Rank</th>\n",
              "      <th>Name</th>\n",
              "      <th>Platform</th>\n",
              "      <th>Year</th>\n",
              "      <th>Genre</th>\n",
              "      <th>Publisher</th>\n",
              "      <th>NA_Sales</th>\n",
              "      <th>EU_Sales</th>\n",
              "      <th>JP_Sales</th>\n",
              "      <th>Other_Sales</th>\n",
              "      <th>Global_Sales</th>\n",
              "    </tr>\n",
              "  </thead>\n",
              "  <tbody>\n",
              "    <tr>\n",
              "      <th>0</th>\n",
              "      <td>1</td>\n",
              "      <td>Wii Sports</td>\n",
              "      <td>Wii</td>\n",
              "      <td>2006.0</td>\n",
              "      <td>Sports</td>\n",
              "      <td>Nintendo</td>\n",
              "      <td>41.49</td>\n",
              "      <td>29.02</td>\n",
              "      <td>3.77</td>\n",
              "      <td>8.46</td>\n",
              "      <td>82.74</td>\n",
              "    </tr>\n",
              "    <tr>\n",
              "      <th>1</th>\n",
              "      <td>2</td>\n",
              "      <td>Super Mario Bros.</td>\n",
              "      <td>NES</td>\n",
              "      <td>1985.0</td>\n",
              "      <td>Platform</td>\n",
              "      <td>Nintendo</td>\n",
              "      <td>29.08</td>\n",
              "      <td>3.58</td>\n",
              "      <td>6.81</td>\n",
              "      <td>0.77</td>\n",
              "      <td>40.24</td>\n",
              "    </tr>\n",
              "    <tr>\n",
              "      <th>2</th>\n",
              "      <td>3</td>\n",
              "      <td>Mario Kart Wii</td>\n",
              "      <td>Wii</td>\n",
              "      <td>2008.0</td>\n",
              "      <td>Racing</td>\n",
              "      <td>Nintendo</td>\n",
              "      <td>15.85</td>\n",
              "      <td>12.88</td>\n",
              "      <td>3.79</td>\n",
              "      <td>3.31</td>\n",
              "      <td>35.82</td>\n",
              "    </tr>\n",
              "    <tr>\n",
              "      <th>3</th>\n",
              "      <td>4</td>\n",
              "      <td>Wii Sports Resort</td>\n",
              "      <td>Wii</td>\n",
              "      <td>2009.0</td>\n",
              "      <td>Sports</td>\n",
              "      <td>Nintendo</td>\n",
              "      <td>15.75</td>\n",
              "      <td>11.01</td>\n",
              "      <td>3.28</td>\n",
              "      <td>2.96</td>\n",
              "      <td>33.00</td>\n",
              "    </tr>\n",
              "    <tr>\n",
              "      <th>4</th>\n",
              "      <td>5</td>\n",
              "      <td>Pokemon Red/Pokemon Blue</td>\n",
              "      <td>GB</td>\n",
              "      <td>1996.0</td>\n",
              "      <td>Role-Playing</td>\n",
              "      <td>Nintendo</td>\n",
              "      <td>11.27</td>\n",
              "      <td>8.89</td>\n",
              "      <td>10.22</td>\n",
              "      <td>1.00</td>\n",
              "      <td>31.37</td>\n",
              "    </tr>\n",
              "  </tbody>\n",
              "</table>\n",
              "</div>"
            ],
            "text/plain": [
              "   Rank                      Name Platform  ...  JP_Sales Other_Sales Global_Sales\n",
              "0     1                Wii Sports      Wii  ...      3.77        8.46        82.74\n",
              "1     2         Super Mario Bros.      NES  ...      6.81        0.77        40.24\n",
              "2     3            Mario Kart Wii      Wii  ...      3.79        3.31        35.82\n",
              "3     4         Wii Sports Resort      Wii  ...      3.28        2.96        33.00\n",
              "4     5  Pokemon Red/Pokemon Blue       GB  ...     10.22        1.00        31.37\n",
              "\n",
              "[5 rows x 11 columns]"
            ]
          },
          "metadata": {
            "tags": []
          },
          "execution_count": 5
        }
      ]
    },
    {
      "cell_type": "code",
      "metadata": {
        "id": "oyAA2Binp598",
        "outputId": "12db70fa-3a05-4f65-e789-b6d62e43670c",
        "colab": {
          "base_uri": "https://localhost:8080/"
        }
      },
      "source": [
        "games['Year'].min()"
      ],
      "execution_count": 78,
      "outputs": [
        {
          "output_type": "execute_result",
          "data": {
            "text/plain": [
              "1980"
            ]
          },
          "metadata": {
            "tags": []
          },
          "execution_count": 78
        }
      ]
    },
    {
      "cell_type": "code",
      "metadata": {
        "id": "ilRw5O06qBuB",
        "outputId": "c4aba552-385c-457f-ce04-38007950a365",
        "colab": {
          "base_uri": "https://localhost:8080/"
        }
      },
      "source": [
        "games['Year'].max()"
      ],
      "execution_count": 79,
      "outputs": [
        {
          "output_type": "execute_result",
          "data": {
            "text/plain": [
              "2020"
            ]
          },
          "metadata": {
            "tags": []
          },
          "execution_count": 79
        }
      ]
    },
    {
      "cell_type": "markdown",
      "metadata": {
        "id": "flnAYsC3mK7y"
      },
      "source": [
        "#Traitement des données manquantes"
      ]
    },
    {
      "cell_type": "code",
      "metadata": {
        "id": "rd9dsw4XdJ84",
        "outputId": "d3e1e5b5-fde1-408e-89cc-04022f490c91",
        "colab": {
          "base_uri": "https://localhost:8080/"
        }
      },
      "source": [
        "games.isna().sum()"
      ],
      "execution_count": 46,
      "outputs": [
        {
          "output_type": "execute_result",
          "data": {
            "text/plain": [
              "Rank              0\n",
              "Name              0\n",
              "Platform          0\n",
              "Year            271\n",
              "Genre             0\n",
              "Publisher        58\n",
              "NA_Sales          0\n",
              "EU_Sales          0\n",
              "JP_Sales          0\n",
              "Other_Sales       0\n",
              "Global_Sales      0\n",
              "dtype: int64"
            ]
          },
          "metadata": {
            "tags": []
          },
          "execution_count": 46
        }
      ]
    },
    {
      "cell_type": "code",
      "metadata": {
        "id": "mQLfI7bPmOMp",
        "outputId": "e874f084-9844-4aaa-94ab-cc42d60e2a43",
        "colab": {
          "base_uri": "https://localhost:8080/"
        }
      },
      "source": [
        "games = games.dropna(subset = ['Year'])\n",
        "games = games.dropna(subset = ['Publisher'])\n",
        "games.isna().sum()"
      ],
      "execution_count": 48,
      "outputs": [
        {
          "output_type": "execute_result",
          "data": {
            "text/plain": [
              "Rank            0\n",
              "Name            0\n",
              "Platform        0\n",
              "Year            0\n",
              "Genre           0\n",
              "Publisher       0\n",
              "NA_Sales        0\n",
              "EU_Sales        0\n",
              "JP_Sales        0\n",
              "Other_Sales     0\n",
              "Global_Sales    0\n",
              "dtype: int64"
            ]
          },
          "metadata": {
            "tags": []
          },
          "execution_count": 48
        }
      ]
    },
    {
      "cell_type": "markdown",
      "metadata": {
        "id": "IwSPeVEkmsIu"
      },
      "source": [
        "#Conversion de l'année en Int64"
      ]
    },
    {
      "cell_type": "code",
      "metadata": {
        "id": "7FgYEx-1mwfW",
        "outputId": "899679fe-ae6e-4f3c-bcda-d2a9114fdb78",
        "colab": {
          "base_uri": "https://localhost:8080/"
        }
      },
      "source": [
        "games['Year'] = games['Year'].astype(np.int64)\n",
        "games['Year']"
      ],
      "execution_count": 57,
      "outputs": [
        {
          "output_type": "execute_result",
          "data": {
            "text/plain": [
              "0        2006\n",
              "1        1985\n",
              "2        2008\n",
              "3        2009\n",
              "4        1996\n",
              "         ... \n",
              "16593    2002\n",
              "16594    2003\n",
              "16595    2008\n",
              "16596    2010\n",
              "16597    2003\n",
              "Name: Year, Length: 16291, dtype: int64"
            ]
          },
          "metadata": {
            "tags": []
          },
          "execution_count": 57
        }
      ]
    },
    {
      "cell_type": "markdown",
      "metadata": {
        "id": "ofUWPMhHnGYE"
      },
      "source": [
        "#Analyse"
      ]
    },
    {
      "cell_type": "code",
      "metadata": {
        "id": "tjTKNNRxWWO9"
      },
      "source": [
        "games['Publisher'].unique()"
      ],
      "execution_count": null,
      "outputs": []
    },
    {
      "cell_type": "markdown",
      "metadata": {
        "id": "mxOr3gl0XbF-"
      },
      "source": [
        "Comme on peut le voir il y a de nombreuses entreprises. Dans un premier temps nous allons voir quelques données en général, puis nous prendrons une entreprise particulière pour voir ses données."
      ]
    },
    {
      "cell_type": "code",
      "metadata": {
        "id": "E9kVV9J-ZthD",
        "outputId": "403a80db-92e2-4e02-8f2d-99525e206d1c",
        "colab": {
          "base_uri": "https://localhost:8080/",
          "height": 455
        }
      },
      "source": [
        "\n",
        "sns.relplot(x=\"Year\", y=\"Global_Sales\", data = games,height=6, aspect = 3);\n",
        " "
      ],
      "execution_count": 86,
      "outputs": [
        {
          "output_type": "display_data",
          "data": {
            "image/png": "[encoded data removed]",
            "text/plain": [
              "<Figure size 1296x432 with 1 Axes>"
            ]
          },
          "metadata": {
            "tags": [],
            "needs_background": "light"
          }
        }
      ]
    },
    {
      "cell_type": "code",
      "metadata": {
        "id": "S1KT__avwd_k",
        "outputId": "56d7dc33-4479-4d1d-96e2-f4021220e3c5",
        "colab": {
          "base_uri": "https://localhost:8080/",
          "height": 455
        }
      },
      "source": [
        "sns.relplot(x=\"Year\", y=\"Global_Sales\", data = games,height=6, aspect = 3,kind='line');"
      ],
      "execution_count": 88,
      "outputs": [
        {
          "output_type": "display_data",
          "data": {
            "image/png": "[encoded data removed]",
            "text/plain": [
              "<Figure size 1296x432 with 1 Axes>"
            ]
          },
          "metadata": {
            "tags": [],
            "needs_background": "light"
          }
        }
      ]
    },
    {
      "cell_type": "code",
      "metadata": {
        "id": "uVIsy1eh1P0U",
        "outputId": "69f42d7c-4ccd-4b7c-8a8e-43d1f4ceb6ae",
        "colab": {
          "base_uri": "https://localhost:8080/",
          "height": 627
        }
      },
      "source": [
        "fig_dims = (30, 10)\n",
        "fig, ax = plt.subplots(figsize=fig_dims)\n",
        "sns.barplot(x=\"Year\", y=\"Global_Sales\",ax=ax, data=games)"
      ],
      "execution_count": 98,
      "outputs": [
        {
          "output_type": "execute_result",
          "data": {
            "text/plain": [
              "<matplotlib.axes._subplots.AxesSubplot at 0x7fe43983c358>"
            ]
          },
          "metadata": {
            "tags": []
          },
          "execution_count": 98
        },
        {
          "output_type": "display_data",
          "data": {
            "image/png": "[encoded data removed]",
            "text/plain": [
              "<Figure size 2160x720 with 1 Axes>"
            ]
          },
          "metadata": {
            "tags": [],
            "needs_background": "light"
          }
        }
      ]
    },
    {
      "cell_type": "markdown",
      "metadata": {
        "id": "AQe0ynM2dlGd"
      },
      "source": [
        "On peut constater que pour la plupart des jeux vendus, le résultat mondiale ne dépasse pas les 20 millions. \n",
        "\n",
        "Lorsque que l'on regarde en détail les consoles présentent dans ce dataset, on remarque qu'il manque des données puisqu'il n'y a aucune sortie de jeux entre 2017 et 2020 alors que la PS4 est dans ce classement."
      ]
    },
    {
      "cell_type": "code",
      "metadata": {
        "id": "dRiPNlKbLCwK",
        "outputId": "e60b5856-a019-41a5-8c70-17468874f30f",
        "colab": {
          "base_uri": "https://localhost:8080/"
        }
      },
      "source": [
        "games['Platform'].unique()"
      ],
      "execution_count": 52,
      "outputs": [
        {
          "output_type": "execute_result",
          "data": {
            "text/plain": [
              "array(['Wii', 'NES', 'GB', 'DS', 'X360', 'PS3', 'PS2', 'SNES', 'GBA',\n",
              "       '3DS', 'PS4', 'N64', 'PS', 'XB', 'PC', '2600', 'PSP', 'XOne', 'GC',\n",
              "       'WiiU', 'GEN', 'DC', 'PSV', 'SAT', 'SCD', 'WS', 'NG', 'TG16',\n",
              "       '3DO', 'GG', 'PCFX'], dtype=object)"
            ]
          },
          "metadata": {
            "tags": []
          },
          "execution_count": 52
        }
      ]
    },
    {
      "cell_type": "code",
      "metadata": {
        "id": "9Jg0PRoihkEX",
        "outputId": "6a574116-02a7-4a6a-92b6-12e388437218",
        "colab": {
          "base_uri": "https://localhost:8080/",
          "height": 143
        }
      },
      "source": [
        "gb_sales = games[['Name','Platform','Year','Genre','Publisher','Global_Sales']].nlargest(3,'Global_Sales')\n",
        "gb_sales"
      ],
      "execution_count": 56,
      "outputs": [
        {
          "output_type": "execute_result",
          "data": {
            "text/html": [
              "<div>\n",
              "<style scoped>\n",
              "    .dataframe tbody tr th:only-of-type {\n",
              "        vertical-align: middle;\n",
              "    }\n",
              "\n",
              "    .dataframe tbody tr th {\n",
              "        vertical-align: top;\n",
              "    }\n",
              "\n",
              "    .dataframe thead th {\n",
              "        text-align: right;\n",
              "    }\n",
              "</style>\n",
              "<table border=\"1\" class=\"dataframe\">\n",
              "  <thead>\n",
              "    <tr style=\"text-align: right;\">\n",
              "      <th></th>\n",
              "      <th>Name</th>\n",
              "      <th>Platform</th>\n",
              "      <th>Year</th>\n",
              "      <th>Genre</th>\n",
              "      <th>Publisher</th>\n",
              "      <th>Global_Sales</th>\n",
              "    </tr>\n",
              "  </thead>\n",
              "  <tbody>\n",
              "    <tr>\n",
              "      <th>0</th>\n",
              "      <td>Wii Sports</td>\n",
              "      <td>Wii</td>\n",
              "      <td>2006</td>\n",
              "      <td>Sports</td>\n",
              "      <td>Nintendo</td>\n",
              "      <td>82.74</td>\n",
              "    </tr>\n",
              "    <tr>\n",
              "      <th>1</th>\n",
              "      <td>Super Mario Bros.</td>\n",
              "      <td>NES</td>\n",
              "      <td>1985</td>\n",
              "      <td>Platform</td>\n",
              "      <td>Nintendo</td>\n",
              "      <td>40.24</td>\n",
              "    </tr>\n",
              "    <tr>\n",
              "      <th>2</th>\n",
              "      <td>Mario Kart Wii</td>\n",
              "      <td>Wii</td>\n",
              "      <td>2008</td>\n",
              "      <td>Racing</td>\n",
              "      <td>Nintendo</td>\n",
              "      <td>35.82</td>\n",
              "    </tr>\n",
              "  </tbody>\n",
              "</table>\n",
              "</div>"
            ],
            "text/plain": [
              "                Name Platform  Year     Genre Publisher  Global_Sales\n",
              "0         Wii Sports      Wii  2006    Sports  Nintendo         82.74\n",
              "1  Super Mario Bros.      NES  1985  Platform  Nintendo         40.24\n",
              "2     Mario Kart Wii      Wii  2008    Racing  Nintendo         35.82"
            ]
          },
          "metadata": {
            "tags": []
          },
          "execution_count": 56
        }
      ]
    },
    {
      "cell_type": "code",
      "metadata": {
        "id": "yg3MW2oVPCU9",
        "outputId": "74241b03-a09e-4822-f89c-8f60e5b938a3",
        "colab": {
          "base_uri": "https://localhost:8080/",
          "height": 143
        }
      },
      "source": [
        "na_sales = games[['Name','Platform','Year','Genre','Publisher','NA_Sales']].nlargest(3,'NA_Sales')\n",
        "na_sales"
      ],
      "execution_count": 58,
      "outputs": [
        {
          "output_type": "execute_result",
          "data": {
            "text/html": [
              "<div>\n",
              "<style scoped>\n",
              "    .dataframe tbody tr th:only-of-type {\n",
              "        vertical-align: middle;\n",
              "    }\n",
              "\n",
              "    .dataframe tbody tr th {\n",
              "        vertical-align: top;\n",
              "    }\n",
              "\n",
              "    .dataframe thead th {\n",
              "        text-align: right;\n",
              "    }\n",
              "</style>\n",
              "<table border=\"1\" class=\"dataframe\">\n",
              "  <thead>\n",
              "    <tr style=\"text-align: right;\">\n",
              "      <th></th>\n",
              "      <th>Name</th>\n",
              "      <th>Platform</th>\n",
              "      <th>Year</th>\n",
              "      <th>Genre</th>\n",
              "      <th>Publisher</th>\n",
              "      <th>NA_Sales</th>\n",
              "    </tr>\n",
              "  </thead>\n",
              "  <tbody>\n",
              "    <tr>\n",
              "      <th>0</th>\n",
              "      <td>Wii Sports</td>\n",
              "      <td>Wii</td>\n",
              "      <td>2006</td>\n",
              "      <td>Sports</td>\n",
              "      <td>Nintendo</td>\n",
              "      <td>41.49</td>\n",
              "    </tr>\n",
              "    <tr>\n",
              "      <th>1</th>\n",
              "      <td>Super Mario Bros.</td>\n",
              "      <td>NES</td>\n",
              "      <td>1985</td>\n",
              "      <td>Platform</td>\n",
              "      <td>Nintendo</td>\n",
              "      <td>29.08</td>\n",
              "    </tr>\n",
              "    <tr>\n",
              "      <th>9</th>\n",
              "      <td>Duck Hunt</td>\n",
              "      <td>NES</td>\n",
              "      <td>1984</td>\n",
              "      <td>Shooter</td>\n",
              "      <td>Nintendo</td>\n",
              "      <td>26.93</td>\n",
              "    </tr>\n",
              "  </tbody>\n",
              "</table>\n",
              "</div>"
            ],
            "text/plain": [
              "                Name Platform  Year     Genre Publisher  NA_Sales\n",
              "0         Wii Sports      Wii  2006    Sports  Nintendo     41.49\n",
              "1  Super Mario Bros.      NES  1985  Platform  Nintendo     29.08\n",
              "9          Duck Hunt      NES  1984   Shooter  Nintendo     26.93"
            ]
          },
          "metadata": {
            "tags": []
          },
          "execution_count": 58
        }
      ]
    },
    {
      "cell_type": "code",
      "metadata": {
        "id": "IomXMY94PCdy",
        "outputId": "354f9436-6716-4fa9-eaaa-6a81dc1d733f",
        "colab": {
          "base_uri": "https://localhost:8080/",
          "height": 143
        }
      },
      "source": [
        "eu_sales = games[['Name','Platform','Year','Genre','Publisher','EU_Sales']].nlargest(3,'EU_Sales')\n",
        "eu_sales"
      ],
      "execution_count": 59,
      "outputs": [
        {
          "output_type": "execute_result",
          "data": {
            "text/html": [
              "<div>\n",
              "<style scoped>\n",
              "    .dataframe tbody tr th:only-of-type {\n",
              "        vertical-align: middle;\n",
              "    }\n",
              "\n",
              "    .dataframe tbody tr th {\n",
              "        vertical-align: top;\n",
              "    }\n",
              "\n",
              "    .dataframe thead th {\n",
              "        text-align: right;\n",
              "    }\n",
              "</style>\n",
              "<table border=\"1\" class=\"dataframe\">\n",
              "  <thead>\n",
              "    <tr style=\"text-align: right;\">\n",
              "      <th></th>\n",
              "      <th>Name</th>\n",
              "      <th>Platform</th>\n",
              "      <th>Year</th>\n",
              "      <th>Genre</th>\n",
              "      <th>Publisher</th>\n",
              "      <th>EU_Sales</th>\n",
              "    </tr>\n",
              "  </thead>\n",
              "  <tbody>\n",
              "    <tr>\n",
              "      <th>0</th>\n",
              "      <td>Wii Sports</td>\n",
              "      <td>Wii</td>\n",
              "      <td>2006</td>\n",
              "      <td>Sports</td>\n",
              "      <td>Nintendo</td>\n",
              "      <td>29.02</td>\n",
              "    </tr>\n",
              "    <tr>\n",
              "      <th>2</th>\n",
              "      <td>Mario Kart Wii</td>\n",
              "      <td>Wii</td>\n",
              "      <td>2008</td>\n",
              "      <td>Racing</td>\n",
              "      <td>Nintendo</td>\n",
              "      <td>12.88</td>\n",
              "    </tr>\n",
              "    <tr>\n",
              "      <th>3</th>\n",
              "      <td>Wii Sports Resort</td>\n",
              "      <td>Wii</td>\n",
              "      <td>2009</td>\n",
              "      <td>Sports</td>\n",
              "      <td>Nintendo</td>\n",
              "      <td>11.01</td>\n",
              "    </tr>\n",
              "  </tbody>\n",
              "</table>\n",
              "</div>"
            ],
            "text/plain": [
              "                Name Platform  Year   Genre Publisher  EU_Sales\n",
              "0         Wii Sports      Wii  2006  Sports  Nintendo     29.02\n",
              "2     Mario Kart Wii      Wii  2008  Racing  Nintendo     12.88\n",
              "3  Wii Sports Resort      Wii  2009  Sports  Nintendo     11.01"
            ]
          },
          "metadata": {
            "tags": []
          },
          "execution_count": 59
        }
      ]
    },
    {
      "cell_type": "code",
      "metadata": {
        "id": "oTDqGultRPzM",
        "outputId": "00171d73-11e4-45d5-bd8a-fb1a525ffc0e",
        "colab": {
          "base_uri": "https://localhost:8080/",
          "height": 143
        }
      },
      "source": [
        "jp_sales = games[['Name','Platform','Year','Genre','Publisher','JP_Sales']].nlargest(3,'JP_Sales')\n",
        "jp_sales"
      ],
      "execution_count": 60,
      "outputs": [
        {
          "output_type": "execute_result",
          "data": {
            "text/html": [
              "<div>\n",
              "<style scoped>\n",
              "    .dataframe tbody tr th:only-of-type {\n",
              "        vertical-align: middle;\n",
              "    }\n",
              "\n",
              "    .dataframe tbody tr th {\n",
              "        vertical-align: top;\n",
              "    }\n",
              "\n",
              "    .dataframe thead th {\n",
              "        text-align: right;\n",
              "    }\n",
              "</style>\n",
              "<table border=\"1\" class=\"dataframe\">\n",
              "  <thead>\n",
              "    <tr style=\"text-align: right;\">\n",
              "      <th></th>\n",
              "      <th>Name</th>\n",
              "      <th>Platform</th>\n",
              "      <th>Year</th>\n",
              "      <th>Genre</th>\n",
              "      <th>Publisher</th>\n",
              "      <th>JP_Sales</th>\n",
              "    </tr>\n",
              "  </thead>\n",
              "  <tbody>\n",
              "    <tr>\n",
              "      <th>4</th>\n",
              "      <td>Pokemon Red/Pokemon Blue</td>\n",
              "      <td>GB</td>\n",
              "      <td>1996</td>\n",
              "      <td>Role-Playing</td>\n",
              "      <td>Nintendo</td>\n",
              "      <td>10.22</td>\n",
              "    </tr>\n",
              "    <tr>\n",
              "      <th>12</th>\n",
              "      <td>Pokemon Gold/Pokemon Silver</td>\n",
              "      <td>GB</td>\n",
              "      <td>1999</td>\n",
              "      <td>Role-Playing</td>\n",
              "      <td>Nintendo</td>\n",
              "      <td>7.20</td>\n",
              "    </tr>\n",
              "    <tr>\n",
              "      <th>1</th>\n",
              "      <td>Super Mario Bros.</td>\n",
              "      <td>NES</td>\n",
              "      <td>1985</td>\n",
              "      <td>Platform</td>\n",
              "      <td>Nintendo</td>\n",
              "      <td>6.81</td>\n",
              "    </tr>\n",
              "  </tbody>\n",
              "</table>\n",
              "</div>"
            ],
            "text/plain": [
              "                           Name Platform  ...  Publisher JP_Sales\n",
              "4      Pokemon Red/Pokemon Blue       GB  ...   Nintendo    10.22\n",
              "12  Pokemon Gold/Pokemon Silver       GB  ...   Nintendo     7.20\n",
              "1             Super Mario Bros.      NES  ...   Nintendo     6.81\n",
              "\n",
              "[3 rows x 6 columns]"
            ]
          },
          "metadata": {
            "tags": []
          },
          "execution_count": 60
        }
      ]
    },
    {
      "cell_type": "markdown",
      "metadata": {
        "id": "9V-A0I8MiSrQ"
      },
      "source": [
        "On a ici le top 3 des meilleures ventes globales, en Amérique du Nord, en Europe et au Japon. Comme on peut le voir, c'est Nintendo qui domine avec en premier Wii Sports, qui a généré 82.74 millions d'euros dans le monde.\n",
        "\n",
        "Pour la suite nous allons donc utiliser les données de Nintendo, puisque c'est la plus importante de ce dataset."
      ]
    },
    {
      "cell_type": "markdown",
      "metadata": {
        "id": "t0p2QqS_65qd"
      },
      "source": [
        "Évolution des meilleurs genre de jeux par années"
      ]
    },
    {
      "cell_type": "code",
      "metadata": {
        "id": "r15HZhZy7NRL",
        "outputId": "27fd2e80-56f2-42c5-e773-2c1d811d193e",
        "colab": {
          "base_uri": "https://localhost:8080/"
        }
      },
      "source": [
        "games['Genre'].value_counts()"
      ],
      "execution_count": 121,
      "outputs": [
        {
          "output_type": "execute_result",
          "data": {
            "text/plain": [
              "Action          3251\n",
              "Sports          2304\n",
              "Misc            1686\n",
              "Role-Playing    1470\n",
              "Shooter         1282\n",
              "Adventure       1274\n",
              "Racing          1225\n",
              "Platform         875\n",
              "Simulation       848\n",
              "Fighting         836\n",
              "Strategy         670\n",
              "Puzzle           570\n",
              "Name: Genre, dtype: int64"
            ]
          },
          "metadata": {
            "tags": []
          },
          "execution_count": 121
        }
      ]
    },
    {
      "cell_type": "markdown",
      "metadata": {
        "id": "sMnrg-tPcHAU"
      },
      "source": [
        "# Nintendo\n",
        "\n",
        "On va donc se focaliser sur Nintendo. Pour cela on récupère toutes les données du dataset que l'on copie dans une nouvelle variable pour ne pas modifier le dataset original"
      ]
    },
    {
      "cell_type": "code",
      "metadata": {
        "id": "UAGV814jjJbf"
      },
      "source": [
        "# On crée le dataset Nintendo\n",
        "nintendo = games[games['Publisher'] == 'Nintendo'].copy()"
      ],
      "execution_count": 61,
      "outputs": []
    },
    {
      "cell_type": "code",
      "metadata": {
        "id": "5ARVp4EojTkp",
        "outputId": "39fb9d7c-dab1-46cb-a13a-e32aaa31abfd",
        "colab": {
          "base_uri": "https://localhost:8080/"
        }
      },
      "source": [
        "nintendo.info()"
      ],
      "execution_count": 62,
      "outputs": [
        {
          "output_type": "stream",
          "text": [
            "<class 'pandas.core.frame.DataFrame'>\n",
            "Int64Index: 696 entries, 0 to 16542\n",
            "Data columns (total 11 columns):\n",
            " #   Column        Non-Null Count  Dtype  \n",
            "---  ------        --------------  -----  \n",
            " 0   Rank          696 non-null    int64  \n",
            " 1   Name          696 non-null    object \n",
            " 2   Platform      696 non-null    object \n",
            " 3   Year          696 non-null    int64  \n",
            " 4   Genre         696 non-null    object \n",
            " 5   Publisher     696 non-null    object \n",
            " 6   NA_Sales      696 non-null    float64\n",
            " 7   EU_Sales      696 non-null    float64\n",
            " 8   JP_Sales      696 non-null    float64\n",
            " 9   Other_Sales   696 non-null    float64\n",
            " 10  Global_Sales  696 non-null    float64\n",
            "dtypes: float64(5), int64(2), object(4)\n",
            "memory usage: 65.2+ KB\n"
          ],
          "name": "stdout"
        }
      ]
    },
    {
      "cell_type": "code",
      "metadata": {
        "id": "QU8utgE0jnRc",
        "outputId": "0bffdff4-5071-485d-94af-afbb531ddcaf",
        "colab": {
          "base_uri": "https://localhost:8080/",
          "height": 206
        }
      },
      "source": [
        "nintendo.head()"
      ],
      "execution_count": 63,
      "outputs": [
        {
          "output_type": "execute_result",
          "data": {
            "text/html": [
              "<div>\n",
              "<style scoped>\n",
              "    .dataframe tbody tr th:only-of-type {\n",
              "        vertical-align: middle;\n",
              "    }\n",
              "\n",
              "    .dataframe tbody tr th {\n",
              "        vertical-align: top;\n",
              "    }\n",
              "\n",
              "    .dataframe thead th {\n",
              "        text-align: right;\n",
              "    }\n",
              "</style>\n",
              "<table border=\"1\" class=\"dataframe\">\n",
              "  <thead>\n",
              "    <tr style=\"text-align: right;\">\n",
              "      <th></th>\n",
              "      <th>Rank</th>\n",
              "      <th>Name</th>\n",
              "      <th>Platform</th>\n",
              "      <th>Year</th>\n",
              "      <th>Genre</th>\n",
              "      <th>Publisher</th>\n",
              "      <th>NA_Sales</th>\n",
              "      <th>EU_Sales</th>\n",
              "      <th>JP_Sales</th>\n",
              "      <th>Other_Sales</th>\n",
              "      <th>Global_Sales</th>\n",
              "    </tr>\n",
              "  </thead>\n",
              "  <tbody>\n",
              "    <tr>\n",
              "      <th>0</th>\n",
              "      <td>1</td>\n",
              "      <td>Wii Sports</td>\n",
              "      <td>Wii</td>\n",
              "      <td>2006</td>\n",
              "      <td>Sports</td>\n",
              "      <td>Nintendo</td>\n",
              "      <td>41.49</td>\n",
              "      <td>29.02</td>\n",
              "      <td>3.77</td>\n",
              "      <td>8.46</td>\n",
              "      <td>82.74</td>\n",
              "    </tr>\n",
              "    <tr>\n",
              "      <th>1</th>\n",
              "      <td>2</td>\n",
              "      <td>Super Mario Bros.</td>\n",
              "      <td>NES</td>\n",
              "      <td>1985</td>\n",
              "      <td>Platform</td>\n",
              "      <td>Nintendo</td>\n",
              "      <td>29.08</td>\n",
              "      <td>3.58</td>\n",
              "      <td>6.81</td>\n",
              "      <td>0.77</td>\n",
              "      <td>40.24</td>\n",
              "    </tr>\n",
              "    <tr>\n",
              "      <th>2</th>\n",
              "      <td>3</td>\n",
              "      <td>Mario Kart Wii</td>\n",
              "      <td>Wii</td>\n",
              "      <td>2008</td>\n",
              "      <td>Racing</td>\n",
              "      <td>Nintendo</td>\n",
              "      <td>15.85</td>\n",
              "      <td>12.88</td>\n",
              "      <td>3.79</td>\n",
              "      <td>3.31</td>\n",
              "      <td>35.82</td>\n",
              "    </tr>\n",
              "    <tr>\n",
              "      <th>3</th>\n",
              "      <td>4</td>\n",
              "      <td>Wii Sports Resort</td>\n",
              "      <td>Wii</td>\n",
              "      <td>2009</td>\n",
              "      <td>Sports</td>\n",
              "      <td>Nintendo</td>\n",
              "      <td>15.75</td>\n",
              "      <td>11.01</td>\n",
              "      <td>3.28</td>\n",
              "      <td>2.96</td>\n",
              "      <td>33.00</td>\n",
              "    </tr>\n",
              "    <tr>\n",
              "      <th>4</th>\n",
              "      <td>5</td>\n",
              "      <td>Pokemon Red/Pokemon Blue</td>\n",
              "      <td>GB</td>\n",
              "      <td>1996</td>\n",
              "      <td>Role-Playing</td>\n",
              "      <td>Nintendo</td>\n",
              "      <td>11.27</td>\n",
              "      <td>8.89</td>\n",
              "      <td>10.22</td>\n",
              "      <td>1.00</td>\n",
              "      <td>31.37</td>\n",
              "    </tr>\n",
              "  </tbody>\n",
              "</table>\n",
              "</div>"
            ],
            "text/plain": [
              "   Rank                      Name Platform  ...  JP_Sales Other_Sales Global_Sales\n",
              "0     1                Wii Sports      Wii  ...      3.77        8.46        82.74\n",
              "1     2         Super Mario Bros.      NES  ...      6.81        0.77        40.24\n",
              "2     3            Mario Kart Wii      Wii  ...      3.79        3.31        35.82\n",
              "3     4         Wii Sports Resort      Wii  ...      3.28        2.96        33.00\n",
              "4     5  Pokemon Red/Pokemon Blue       GB  ...     10.22        1.00        31.37\n",
              "\n",
              "[5 rows x 11 columns]"
            ]
          },
          "metadata": {
            "tags": []
          },
          "execution_count": 63
        }
      ]
    },
    {
      "cell_type": "markdown",
      "metadata": {
        "id": "JhdIWIiglE5d"
      },
      "source": [
        "Maitenant que l'on a insolé Nintendo, nous allons pouvoir regarder l'évolution des ventes"
      ]
    },
    {
      "cell_type": "code",
      "metadata": {
        "id": "IUgWCk2glEE8",
        "outputId": "ccf4057c-7c63-4eb9-d609-beab2779e611",
        "colab": {
          "base_uri": "https://localhost:8080/",
          "height": 420
        }
      },
      "source": [
        "fig, ax = plt.subplots(figsize=(15, 6))\n",
        "nintendo_sales = nintendo[['Year','Global_Sales']]\n",
        "sns.lineplot(x='Year',y='Global_Sales',data = nintendo_sales)\n",
        "\n",
        "ax.set_title('Ventes globales en fonction des années', fontsize = 20, loc='center',fontdict=dict(weight='bold'))\n",
        "ax.set_xlabel('Année', fontsize = 16, fontdict=dict(weight='bold'))\n",
        "ax.set_ylabel('Ventes', fontsize = 16, fontdict=dict(weight='bold'))\n",
        "\n",
        "plt.tick_params(axis='y', which='major', labelsize=16)\n",
        "plt.tick_params(axis='x', which='major', labelsize=16)"
      ],
      "execution_count": 64,
      "outputs": [
        {
          "output_type": "display_data",
          "data": {
            "image/png": "[encoded data removed]",
            "text/plain": [
              "<Figure size 1080x432 with 1 Axes>"
            ]
          },
          "metadata": {
            "tags": [],
            "needs_background": "light"
          }
        }
      ]
    },
    {
      "cell_type": "markdown",
      "metadata": {
        "id": "3qu68FFJythi"
      },
      "source": [
        "On constate ici qu'il manque valeurs qu'on peut considérer comme abérentes par rapport au reste des données. Par exemple on peut voir, dans la figure suivante, qu'il manque la valeur 82.74 de Wii Sport. Cela peut s'expliquer par le fait que la 1ère figure fait une moyenne de ces valeurs. "
      ]
    },
    {
      "cell_type": "code",
      "metadata": {
        "id": "tnWgBarJmAxh",
        "outputId": "39a0e2cc-4156-4d86-d2f5-22ccb4417110",
        "colab": {
          "base_uri": "https://localhost:8080/",
          "height": 455
        }
      },
      "source": [
        "nintendo_sales = nintendo[['Year','Global_Sales']]\n",
        "sns.relplot(x=\"Year\", y=\"Global_Sales\", data = nintendo_sales,height=6, aspect = 3);\n"
      ],
      "execution_count": 65,
      "outputs": [
        {
          "output_type": "display_data",
          "data": {
            "image/png": "[encoded data removed]",
            "text/plain": [
              "<Figure size 1296x432 with 1 Axes>"
            ]
          },
          "metadata": {
            "tags": [],
            "needs_background": "light"
          }
        }
      ]
    },
    {
      "cell_type": "code",
      "metadata": {
        "id": "MYZZoYDp7VJ0",
        "outputId": "01bc61c6-4643-40f2-ae31-c31e5d2aac64",
        "colab": {
          "base_uri": "https://localhost:8080/",
          "height": 624
        }
      },
      "source": [
        "fig_dims = (30, 10)\n",
        "fig, ax = plt.subplots(figsize=fig_dims)\n",
        "sns.barplot(x=\"Year\", y=\"Global_Sales\",ax=ax, data=nintendo)"
      ],
      "execution_count": 130,
      "outputs": [
        {
          "output_type": "execute_result",
          "data": {
            "text/plain": [
              "<matplotlib.axes._subplots.AxesSubplot at 0x7fe4391136d8>"
            ]
          },
          "metadata": {
            "tags": []
          },
          "execution_count": 130
        },
        {
          "output_type": "display_data",
          "data": {
            "image/png": "[encoded data removed]",
            "text/plain": [
              "<Figure size 2160x720 with 1 Axes>"
            ]
          },
          "metadata": {
            "tags": [],
            "needs_background": "light"
          }
        }
      ]
    },
    {
      "cell_type": "markdown",
      "metadata": {
        "id": "focqO4aKMTii"
      },
      "source": [
        "On peut également regarder le nombre de sorties par année, mais d'abord nous allons traiter les données manquantes"
      ]
    },
    {
      "cell_type": "code",
      "metadata": {
        "id": "CHN6qcEWMl5c",
        "outputId": "b1c0a515-df2d-40c0-c7db-49238a9042d8",
        "colab": {
          "base_uri": "https://localhost:8080/"
        }
      },
      "source": [
        "nintendo['Year'].value_counts()"
      ],
      "execution_count": 67,
      "outputs": [
        {
          "output_type": "execute_result",
          "data": {
            "text/plain": [
              "2004    57\n",
              "2006    53\n",
              "2005    45\n",
              "2007    42\n",
              "2015    32\n",
              "2009    32\n",
              "2008    32\n",
              "2012    31\n",
              "2010    28\n",
              "2003    27\n",
              "2011    26\n",
              "2013    23\n",
              "2000    23\n",
              "2001    22\n",
              "2002    22\n",
              "1999    20\n",
              "2014    20\n",
              "1998    17\n",
              "1996    17\n",
              "1997    13\n",
              "1991    13\n",
              "1992    10\n",
              "2016    10\n",
              "1995    10\n",
              "1993     9\n",
              "1989     9\n",
              "1984     9\n",
              "1994     8\n",
              "1990     7\n",
              "1985     7\n",
              "1988     6\n",
              "1986     6\n",
              "1983     6\n",
              "1987     4\n",
              "Name: Year, dtype: int64"
            ]
          },
          "metadata": {
            "tags": []
          },
          "execution_count": 67
        }
      ]
    },
    {
      "cell_type": "code",
      "metadata": {
        "id": "5WHBBe8iODU2",
        "outputId": "3a665ec6-72e3-4d92-fa8e-26d00725b905",
        "colab": {
          "base_uri": "https://localhost:8080/",
          "height": 624
        }
      },
      "source": [
        "plt.figure(figsize=(30,10))\n",
        "sns.countplot(x=\"Year\", data=nintendo)"
      ],
      "execution_count": 69,
      "outputs": [
        {
          "output_type": "execute_result",
          "data": {
            "text/plain": [
              "<matplotlib.axes._subplots.AxesSubplot at 0x7fe43a51de80>"
            ]
          },
          "metadata": {
            "tags": []
          },
          "execution_count": 69
        },
        {
          "output_type": "display_data",
          "data": {
            "image/png": "[encoded data removed]",
            "text/plain": [
              "<Figure size 2160x720 with 1 Axes>"
            ]
          },
          "metadata": {
            "tags": [],
            "needs_background": "light"
          }
        }
      ]
    },
    {
      "cell_type": "markdown",
      "metadata": {
        "id": "b2NuBinIpY9e"
      },
      "source": [
        "##Analyse par console\n"
      ]
    },
    {
      "cell_type": "code",
      "metadata": {
        "id": "of8D6lxupbXS",
        "outputId": "b19c1a13-397d-47f0-b201-0729a2fe43ee",
        "colab": {
          "base_uri": "https://localhost:8080/"
        }
      },
      "source": [
        "nintendo[\"Platform\"].unique()"
      ],
      "execution_count": 70,
      "outputs": [
        {
          "output_type": "execute_result",
          "data": {
            "text/plain": [
              "array(['Wii', 'NES', 'GB', 'DS', 'SNES', 'GBA', '3DS', 'N64', 'GC',\n",
              "       'WiiU'], dtype=object)"
            ]
          },
          "metadata": {
            "tags": []
          },
          "execution_count": 70
        }
      ]
    },
    {
      "cell_type": "markdown",
      "metadata": {
        "id": "1o1W-urRsNFK"
      },
      "source": [
        "On va maintenant regarder les ventes pour les jeux NES"
      ]
    },
    {
      "cell_type": "code",
      "metadata": {
        "id": "qsPnd9r1sU_S"
      },
      "source": [
        "nintendo_nes = nintendo[nintendo['Platform'] == 'NES'].copy()"
      ],
      "execution_count": 71,
      "outputs": []
    },
    {
      "cell_type": "code",
      "metadata": {
        "id": "OGlbwK4ZuQj5",
        "outputId": "b9764908-96f5-4bd6-e3ee-7a791ac6e39c",
        "colab": {
          "base_uri": "https://localhost:8080/",
          "height": 206
        }
      },
      "source": [
        "nintendo_nes.head()"
      ],
      "execution_count": 72,
      "outputs": [
        {
          "output_type": "execute_result",
          "data": {
            "text/html": [
              "<div>\n",
              "<style scoped>\n",
              "    .dataframe tbody tr th:only-of-type {\n",
              "        vertical-align: middle;\n",
              "    }\n",
              "\n",
              "    .dataframe tbody tr th {\n",
              "        vertical-align: top;\n",
              "    }\n",
              "\n",
              "    .dataframe thead th {\n",
              "        text-align: right;\n",
              "    }\n",
              "</style>\n",
              "<table border=\"1\" class=\"dataframe\">\n",
              "  <thead>\n",
              "    <tr style=\"text-align: right;\">\n",
              "      <th></th>\n",
              "      <th>Rank</th>\n",
              "      <th>Name</th>\n",
              "      <th>Platform</th>\n",
              "      <th>Year</th>\n",
              "      <th>Genre</th>\n",
              "      <th>Publisher</th>\n",
              "      <th>NA_Sales</th>\n",
              "      <th>EU_Sales</th>\n",
              "      <th>JP_Sales</th>\n",
              "      <th>Other_Sales</th>\n",
              "      <th>Global_Sales</th>\n",
              "    </tr>\n",
              "  </thead>\n",
              "  <tbody>\n",
              "    <tr>\n",
              "      <th>1</th>\n",
              "      <td>2</td>\n",
              "      <td>Super Mario Bros.</td>\n",
              "      <td>NES</td>\n",
              "      <td>1985</td>\n",
              "      <td>Platform</td>\n",
              "      <td>Nintendo</td>\n",
              "      <td>29.08</td>\n",
              "      <td>3.58</td>\n",
              "      <td>6.81</td>\n",
              "      <td>0.77</td>\n",
              "      <td>40.24</td>\n",
              "    </tr>\n",
              "    <tr>\n",
              "      <th>9</th>\n",
              "      <td>10</td>\n",
              "      <td>Duck Hunt</td>\n",
              "      <td>NES</td>\n",
              "      <td>1984</td>\n",
              "      <td>Shooter</td>\n",
              "      <td>Nintendo</td>\n",
              "      <td>26.93</td>\n",
              "      <td>0.63</td>\n",
              "      <td>0.28</td>\n",
              "      <td>0.47</td>\n",
              "      <td>28.31</td>\n",
              "    </tr>\n",
              "    <tr>\n",
              "      <th>22</th>\n",
              "      <td>23</td>\n",
              "      <td>Super Mario Bros. 3</td>\n",
              "      <td>NES</td>\n",
              "      <td>1988</td>\n",
              "      <td>Platform</td>\n",
              "      <td>Nintendo</td>\n",
              "      <td>9.54</td>\n",
              "      <td>3.44</td>\n",
              "      <td>3.84</td>\n",
              "      <td>0.46</td>\n",
              "      <td>17.28</td>\n",
              "    </tr>\n",
              "    <tr>\n",
              "      <th>96</th>\n",
              "      <td>97</td>\n",
              "      <td>Super Mario Bros. 2</td>\n",
              "      <td>NES</td>\n",
              "      <td>1988</td>\n",
              "      <td>Platform</td>\n",
              "      <td>Nintendo</td>\n",
              "      <td>5.39</td>\n",
              "      <td>1.18</td>\n",
              "      <td>0.70</td>\n",
              "      <td>0.19</td>\n",
              "      <td>7.46</td>\n",
              "    </tr>\n",
              "    <tr>\n",
              "      <th>127</th>\n",
              "      <td>128</td>\n",
              "      <td>The Legend of Zelda</td>\n",
              "      <td>NES</td>\n",
              "      <td>1986</td>\n",
              "      <td>Action</td>\n",
              "      <td>Nintendo</td>\n",
              "      <td>3.74</td>\n",
              "      <td>0.93</td>\n",
              "      <td>1.69</td>\n",
              "      <td>0.14</td>\n",
              "      <td>6.51</td>\n",
              "    </tr>\n",
              "  </tbody>\n",
              "</table>\n",
              "</div>"
            ],
            "text/plain": [
              "     Rank                 Name Platform  ...  JP_Sales Other_Sales Global_Sales\n",
              "1       2    Super Mario Bros.      NES  ...      6.81        0.77        40.24\n",
              "9      10            Duck Hunt      NES  ...      0.28        0.47        28.31\n",
              "22     23  Super Mario Bros. 3      NES  ...      3.84        0.46        17.28\n",
              "96     97  Super Mario Bros. 2      NES  ...      0.70        0.19         7.46\n",
              "127   128  The Legend of Zelda      NES  ...      1.69        0.14         6.51\n",
              "\n",
              "[5 rows x 11 columns]"
            ]
          },
          "metadata": {
            "tags": []
          },
          "execution_count": 72
        }
      ]
    },
    {
      "cell_type": "code",
      "metadata": {
        "id": "vBjBGcPJvc3E",
        "outputId": "1657fe53-6c42-4d3a-bac2-909a4d2e3dc5",
        "colab": {
          "base_uri": "https://localhost:8080/",
          "height": 283
        }
      },
      "source": [
        "count = nintendo_nes['Genre'].value_counts()\n",
        "nintendo_nes['Genre'].value_counts().sort_values().plot(kind = 'barh')"
      ],
      "execution_count": 73,
      "outputs": [
        {
          "output_type": "execute_result",
          "data": {
            "text/plain": [
              "<matplotlib.axes._subplots.AxesSubplot at 0x7fe43a49f5f8>"
            ]
          },
          "metadata": {
            "tags": []
          },
          "execution_count": 73
        },
        {
          "output_type": "display_data",
          "data": {
            "image/png": "[encoded data removed]",
            "text/plain": [
              "<Figure size 432x288 with 1 Axes>"
            ]
          },
          "metadata": {
            "tags": [],
            "needs_background": "light"
          }
        }
      ]
    },
    {
      "cell_type": "markdown",
      "metadata": {
        "id": "CrJaunIxzVFA"
      },
      "source": [
        "Nous pouvons constater que les jeux les plus développés pour la NES sont les jeux de platforme. Nous allons donc utiliser ces jeux pour la suite. "
      ]
    },
    {
      "cell_type": "code",
      "metadata": {
        "id": "MqOiRKyEz94P",
        "outputId": "6b8e84e2-f516-458b-c72f-f174c6a9f136",
        "colab": {
          "base_uri": "https://localhost:8080/",
          "height": 489
        }
      },
      "source": [
        "nes_platform = nintendo_nes[nintendo_nes['Genre'] == 'Platform'].copy()\n",
        "nes_platform.head(14)"
      ],
      "execution_count": 77,
      "outputs": [
        {
          "output_type": "execute_result",
          "data": {
            "text/html": [
              "<div>\n",
              "<style scoped>\n",
              "    .dataframe tbody tr th:only-of-type {\n",
              "        vertical-align: middle;\n",
              "    }\n",
              "\n",
              "    .dataframe tbody tr th {\n",
              "        vertical-align: top;\n",
              "    }\n",
              "\n",
              "    .dataframe thead th {\n",
              "        text-align: right;\n",
              "    }\n",
              "</style>\n",
              "<table border=\"1\" class=\"dataframe\">\n",
              "  <thead>\n",
              "    <tr style=\"text-align: right;\">\n",
              "      <th></th>\n",
              "      <th>Rank</th>\n",
              "      <th>Name</th>\n",
              "      <th>Platform</th>\n",
              "      <th>Year</th>\n",
              "      <th>Genre</th>\n",
              "      <th>Publisher</th>\n",
              "      <th>NA_Sales</th>\n",
              "      <th>EU_Sales</th>\n",
              "      <th>JP_Sales</th>\n",
              "      <th>Other_Sales</th>\n",
              "      <th>Global_Sales</th>\n",
              "    </tr>\n",
              "  </thead>\n",
              "  <tbody>\n",
              "    <tr>\n",
              "      <th>1</th>\n",
              "      <td>2</td>\n",
              "      <td>Super Mario Bros.</td>\n",
              "      <td>NES</td>\n",
              "      <td>1985</td>\n",
              "      <td>Platform</td>\n",
              "      <td>Nintendo</td>\n",
              "      <td>29.08</td>\n",
              "      <td>3.58</td>\n",
              "      <td>6.81</td>\n",
              "      <td>0.77</td>\n",
              "      <td>40.24</td>\n",
              "    </tr>\n",
              "    <tr>\n",
              "      <th>22</th>\n",
              "      <td>23</td>\n",
              "      <td>Super Mario Bros. 3</td>\n",
              "      <td>NES</td>\n",
              "      <td>1988</td>\n",
              "      <td>Platform</td>\n",
              "      <td>Nintendo</td>\n",
              "      <td>9.54</td>\n",
              "      <td>3.44</td>\n",
              "      <td>3.84</td>\n",
              "      <td>0.46</td>\n",
              "      <td>17.28</td>\n",
              "    </tr>\n",
              "    <tr>\n",
              "      <th>96</th>\n",
              "      <td>97</td>\n",
              "      <td>Super Mario Bros. 2</td>\n",
              "      <td>NES</td>\n",
              "      <td>1988</td>\n",
              "      <td>Platform</td>\n",
              "      <td>Nintendo</td>\n",
              "      <td>5.39</td>\n",
              "      <td>1.18</td>\n",
              "      <td>0.70</td>\n",
              "      <td>0.19</td>\n",
              "      <td>7.46</td>\n",
              "    </tr>\n",
              "    <tr>\n",
              "      <th>573</th>\n",
              "      <td>574</td>\n",
              "      <td>Super Mario Bros.: The Lost Levels</td>\n",
              "      <td>NES</td>\n",
              "      <td>1986</td>\n",
              "      <td>Platform</td>\n",
              "      <td>Nintendo</td>\n",
              "      <td>0.00</td>\n",
              "      <td>0.00</td>\n",
              "      <td>2.65</td>\n",
              "      <td>0.00</td>\n",
              "      <td>2.65</td>\n",
              "    </tr>\n",
              "    <tr>\n",
              "      <th>700</th>\n",
              "      <td>702</td>\n",
              "      <td>Mario Bros.</td>\n",
              "      <td>NES</td>\n",
              "      <td>1983</td>\n",
              "      <td>Platform</td>\n",
              "      <td>Nintendo</td>\n",
              "      <td>0.51</td>\n",
              "      <td>0.12</td>\n",
              "      <td>1.63</td>\n",
              "      <td>0.02</td>\n",
              "      <td>2.28</td>\n",
              "    </tr>\n",
              "    <tr>\n",
              "      <th>992</th>\n",
              "      <td>994</td>\n",
              "      <td>Kid Icarus</td>\n",
              "      <td>NES</td>\n",
              "      <td>1986</td>\n",
              "      <td>Platform</td>\n",
              "      <td>Nintendo</td>\n",
              "      <td>0.53</td>\n",
              "      <td>0.12</td>\n",
              "      <td>1.09</td>\n",
              "      <td>0.02</td>\n",
              "      <td>1.76</td>\n",
              "    </tr>\n",
              "    <tr>\n",
              "      <th>1010</th>\n",
              "      <td>1012</td>\n",
              "      <td>Kirby's Adventure</td>\n",
              "      <td>NES</td>\n",
              "      <td>1993</td>\n",
              "      <td>Platform</td>\n",
              "      <td>Nintendo</td>\n",
              "      <td>0.79</td>\n",
              "      <td>0.14</td>\n",
              "      <td>0.80</td>\n",
              "      <td>0.02</td>\n",
              "      <td>1.75</td>\n",
              "    </tr>\n",
              "    <tr>\n",
              "      <th>1187</th>\n",
              "      <td>1189</td>\n",
              "      <td>Donkey Kong Classics</td>\n",
              "      <td>NES</td>\n",
              "      <td>1988</td>\n",
              "      <td>Platform</td>\n",
              "      <td>Nintendo</td>\n",
              "      <td>0.59</td>\n",
              "      <td>0.14</td>\n",
              "      <td>0.81</td>\n",
              "      <td>0.02</td>\n",
              "      <td>1.56</td>\n",
              "    </tr>\n",
              "    <tr>\n",
              "      <th>1260</th>\n",
              "      <td>1262</td>\n",
              "      <td>Ice Climber</td>\n",
              "      <td>NES</td>\n",
              "      <td>1985</td>\n",
              "      <td>Platform</td>\n",
              "      <td>Nintendo</td>\n",
              "      <td>0.46</td>\n",
              "      <td>0.10</td>\n",
              "      <td>0.92</td>\n",
              "      <td>0.02</td>\n",
              "      <td>1.50</td>\n",
              "    </tr>\n",
              "    <tr>\n",
              "      <th>1809</th>\n",
              "      <td>1811</td>\n",
              "      <td>Donkey Kong</td>\n",
              "      <td>NES</td>\n",
              "      <td>1983</td>\n",
              "      <td>Platform</td>\n",
              "      <td>Nintendo</td>\n",
              "      <td>0.23</td>\n",
              "      <td>0.05</td>\n",
              "      <td>0.84</td>\n",
              "      <td>0.01</td>\n",
              "      <td>1.13</td>\n",
              "    </tr>\n",
              "    <tr>\n",
              "      <th>1839</th>\n",
              "      <td>1841</td>\n",
              "      <td>Donkey Kong Jr.</td>\n",
              "      <td>NES</td>\n",
              "      <td>1983</td>\n",
              "      <td>Platform</td>\n",
              "      <td>Nintendo</td>\n",
              "      <td>0.33</td>\n",
              "      <td>0.07</td>\n",
              "      <td>0.70</td>\n",
              "      <td>0.01</td>\n",
              "      <td>1.11</td>\n",
              "    </tr>\n",
              "    <tr>\n",
              "      <th>1861</th>\n",
              "      <td>1863</td>\n",
              "      <td>Popeye</td>\n",
              "      <td>NES</td>\n",
              "      <td>1983</td>\n",
              "      <td>Platform</td>\n",
              "      <td>Nintendo</td>\n",
              "      <td>0.51</td>\n",
              "      <td>0.12</td>\n",
              "      <td>0.45</td>\n",
              "      <td>0.02</td>\n",
              "      <td>1.10</td>\n",
              "    </tr>\n",
              "    <tr>\n",
              "      <th>2259</th>\n",
              "      <td>2261</td>\n",
              "      <td>Balloon Fight</td>\n",
              "      <td>NES</td>\n",
              "      <td>1985</td>\n",
              "      <td>Platform</td>\n",
              "      <td>Nintendo</td>\n",
              "      <td>0.39</td>\n",
              "      <td>0.09</td>\n",
              "      <td>0.43</td>\n",
              "      <td>0.01</td>\n",
              "      <td>0.92</td>\n",
              "    </tr>\n",
              "    <tr>\n",
              "      <th>3907</th>\n",
              "      <td>3909</td>\n",
              "      <td>Wrecking Crew</td>\n",
              "      <td>NES</td>\n",
              "      <td>1985</td>\n",
              "      <td>Platform</td>\n",
              "      <td>Nintendo</td>\n",
              "      <td>0.00</td>\n",
              "      <td>0.00</td>\n",
              "      <td>0.51</td>\n",
              "      <td>0.00</td>\n",
              "      <td>0.51</td>\n",
              "    </tr>\n",
              "  </tbody>\n",
              "</table>\n",
              "</div>"
            ],
            "text/plain": [
              "      Rank                                Name  ... Other_Sales  Global_Sales\n",
              "1        2                   Super Mario Bros.  ...        0.77         40.24\n",
              "22      23                 Super Mario Bros. 3  ...        0.46         17.28\n",
              "96      97                 Super Mario Bros. 2  ...        0.19          7.46\n",
              "573    574  Super Mario Bros.: The Lost Levels  ...        0.00          2.65\n",
              "700    702                         Mario Bros.  ...        0.02          2.28\n",
              "992    994                          Kid Icarus  ...        0.02          1.76\n",
              "1010  1012                   Kirby's Adventure  ...        0.02          1.75\n",
              "1187  1189                Donkey Kong Classics  ...        0.02          1.56\n",
              "1260  1262                         Ice Climber  ...        0.02          1.50\n",
              "1809  1811                         Donkey Kong  ...        0.01          1.13\n",
              "1839  1841                     Donkey Kong Jr.  ...        0.01          1.11\n",
              "1861  1863                              Popeye  ...        0.02          1.10\n",
              "2259  2261                       Balloon Fight  ...        0.01          0.92\n",
              "3907  3909                       Wrecking Crew  ...        0.00          0.51\n",
              "\n",
              "[14 rows x 11 columns]"
            ]
          },
          "metadata": {
            "tags": []
          },
          "execution_count": 77
        }
      ]
    },
    {
      "cell_type": "code",
      "metadata": {
        "id": "6UyiQmZI09R5",
        "outputId": "8fbe88a1-04be-490d-f67c-97bb9c10cb5e",
        "colab": {
          "base_uri": "https://localhost:8080/",
          "height": 420
        }
      },
      "source": [
        "fig, ax = plt.subplots(figsize=(15, 6))\n",
        "nintendo_platSales = nes_platform[['Year','Global_Sales']]\n",
        "sns.lineplot(x='Year', y='Global_Sales',data=nintendo_platSales )\n",
        "\n",
        "ax.set_title('Ventes globales en fonction des années', fontsize = 20, loc='center',fontdict=dict(weight='bold'))\n",
        "ax.set_xlabel('Année', fontsize = 16, fontdict=dict(weight='bold'))\n",
        "ax.set_ylabel('Ventes', fontsize = 16, fontdict=dict(weight='bold'))\n",
        "\n",
        "plt.tick_params(axis='y', which='major', labelsize=16)\n",
        "plt.tick_params(axis='x', which='major', labelsize=16)"
      ],
      "execution_count": 75,
      "outputs": [
        {
          "output_type": "display_data",
          "data": {
            "image/png": "[encoded data removed]",
            "text/plain": [
              "<Figure size 1080x432 with 1 Axes>"
            ]
          },
          "metadata": {
            "tags": [],
            "needs_background": "light"
          }
        }
      ]
    },
    {
      "cell_type": "code",
      "metadata": {
        "id": "f3FrpkCCWvhq",
        "outputId": "375fc2ab-fb36-490d-df00-e03101e22323",
        "colab": {
          "base_uri": "https://localhost:8080/",
          "height": 455
        }
      },
      "source": [
        "nintendo_platSales = nes_platform[['Year','Global_Sales']]\n",
        "sns.relplot(x=\"Year\", y=\"Global_Sales\", data = nintendo_platSales,height=6, aspect = 3);"
      ],
      "execution_count": 76,
      "outputs": [
        {
          "output_type": "display_data",
          "data": {
            "image/png": "[encoded data removed]",
            "text/plain": [
              "<Figure size 1296x432 with 1 Axes>"
            ]
          },
          "metadata": {
            "tags": [],
            "needs_background": "light"
          }
        }
      ]
    },
    {
      "cell_type": "markdown",
      "metadata": {
        "id": "nwVUNpmKpAYP"
      },
      "source": [
        "On peut utiliser ces données par exmple si Nintendo envisage de créer un nouveau jeu NES. L'entreprise peut voir qu'après les années 90, les jeux "
      ]
    }
  ]
}