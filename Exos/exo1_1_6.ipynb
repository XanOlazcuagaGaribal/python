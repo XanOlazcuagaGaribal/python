{
  "nbformat": 4,
  "nbformat_minor": 0,
  "metadata": {
    "colab": {
      "name": "exo1_1-6",
      "provenance": [],
      "collapsed_sections": []
    },
    "kernelspec": {
      "name": "python3",
      "display_name": "Python 3"
    }
  },
  "cells": [
    {
      "cell_type": "markdown",
      "metadata": {
        "id": "P89W-SYliWeT"
      },
      "source": [
        "1) Simple échange \n",
        "\n",
        "A = 1\n",
        "\n",
        "B = 2\n",
        "\n",
        "C = 0 \n",
        "\n",
        "C <- A\n",
        "\n",
        "A <- B\n",
        "\n",
        "B <- C\n",
        "\n",
        "On affiche A \n",
        "\n",
        "On affiche B \n",
        "\n",
        "On affiche C\n"
      ]
    },
    {
      "cell_type": "code",
      "metadata": {
        "id": "cpy3beBoS2sh",
        "outputId": "b0ec2a2f-747e-4514-eab0-76ee83090a08",
        "colab": {
          "base_uri": "https://localhost:8080/",
          "height": 72
        }
      },
      "source": [
        "##1) Simple échange\n",
        "A = 1\n",
        "B = 2\n",
        "C = 0\n",
        "C = A\n",
        "A = B\n",
        "B = C\n",
        "print(A)\n",
        "print(B)\n",
        "print(C)"
      ],
      "execution_count": null,
      "outputs": [
        {
          "output_type": "stream",
          "text": [
            "2\n",
            "1\n",
            "1\n"
          ],
          "name": "stdout"
        }
      ]
    },
    {
      "cell_type": "markdown",
      "metadata": {
        "id": "QO0B4_n3jXyB"
      },
      "source": [
        "2) Le carré\n",
        "\n",
        "A <- input(user)\n",
        "\n",
        "B <- 0\n",
        "\n",
        "B = A * A\n",
        "\n",
        "On affiche B"
      ]
    },
    {
      "cell_type": "code",
      "metadata": {
        "id": "-UHKF_iyVcAX",
        "outputId": "10e90353-f151-49b4-efb7-8102e18f1a3d",
        "colab": {
          "base_uri": "https://localhost:8080/",
          "height": 54
        }
      },
      "source": [
        "##2) Afficher le ²\n",
        "A = input()\n",
        "B = 0\n",
        "B = int(A) * int(A)\n",
        "print(B)"
      ],
      "execution_count": 2,
      "outputs": [
        {
          "output_type": "stream",
          "text": [
            "2\n",
            "4\n"
          ],
          "name": "stdout"
        }
      ]
    },
    {
      "cell_type": "markdown",
      "metadata": {
        "id": "9e-EXIoeoeAA"
      },
      "source": [
        "3) La condition\n",
        "\n",
        "A <- input(user)\n",
        "\n",
        "Si A >= 0\n",
        "\n",
        "> Alors on affiche que le chiffre est positif\n",
        "\n",
        "Sinon \n",
        "\n",
        "> On affiche que le chiffre est négatif\n"
      ]
    },
    {
      "cell_type": "code",
      "metadata": {
        "id": "WNxFyaFUVujh",
        "outputId": "1b6f1a45-abe3-4b82-8425-625a8ad03d82",
        "colab": {
          "base_uri": "https://localhost:8080/",
          "height": 35
        }
      },
      "source": [
        "##3) Positif ou négatif\n",
        "A = -5\n",
        "if(A >= 0):\n",
        "  print(\"Le chiffre est positif\")\n",
        "else:\n",
        "  print(\"Le chiffre est négatif\")"
      ],
      "execution_count": null,
      "outputs": [
        {
          "output_type": "stream",
          "text": [
            "Le chiffre est négatif\n"
          ],
          "name": "stdout"
        }
      ]
    },
    {
      "cell_type": "markdown",
      "metadata": {
        "id": "L2YvtlJWpWj1"
      },
      "source": [
        "4) Le produit\n",
        "\n",
        "A <- input(user)\n",
        "\n",
        "B <- input(user)\n",
        "\n",
        "Si A >= 0 et B >= 0 \n",
        "\n",
        "> Alors le produit est positif\n",
        "\n",
        "Si A< 0 et B<0\n",
        "\n",
        "> Alors le produit est positif\n",
        "\n",
        "Si A >= 0 et B<0\n",
        "\n",
        "> Alors le produit est négatif\n",
        "\n",
        "Si A < 0 et B>=0\n",
        "\n",
        "> Alors le produit est négatif\n",
        "\n",
        "Si A == 0 et B<0\n",
        "\n",
        "> Alors le produit est positif\n",
        "         \n",
        "Si A < 0 et B == 0\n",
        "\n",
        "> Alors le produit est positif\n"
      ]
    },
    {
      "cell_type": "code",
      "metadata": {
        "id": "kF7-xiWkWMqK",
        "outputId": "a4da1394-0305-4456-de69-66aee156ee17",
        "colab": {
          "base_uri": "https://localhost:8080/",
          "height": 72
        }
      },
      "source": [
        "##4) Produit positif ou négatif\n",
        "A = input()\n",
        "B = input()\n",
        "if(int(A) >= 0 and int(B) >= 0):\n",
        "  print(\"Le produit est positif\")\n",
        "if(int(A) < 0 and int(B) < 0):\n",
        "  print(\"Le produit est positif\")\n",
        "if(int(A) > 0 and int(B) < 0):\n",
        "  print(\"Le produit est négatif\")\n",
        "if(int(A) < 0 and int(B) > 0):\n",
        "  print(\"Le produit est négatif\")\n",
        "if(int(A) == 0 and int(B) < 0):\n",
        "  print(\"Le produit est positif\")\n",
        "if(int(A) < 0 and int(B) == 0):\n",
        "  print(\"Le produit est positif\")"
      ],
      "execution_count": 9,
      "outputs": [
        {
          "output_type": "stream",
          "text": [
            "-2\n",
            "-1\n",
            "Le produit est positif 2\n"
          ],
          "name": "stdout"
        }
      ]
    },
    {
      "cell_type": "markdown",
      "metadata": {
        "id": "InEgCC0lum3t"
      },
      "source": [
        "5) Calcul\n",
        "\n",
        "A <- 0\n",
        "\n",
        "Pour i entre A+1 et A+11\n",
        "\n",
        "> On affiche i\n",
        "\n"
      ]
    },
    {
      "cell_type": "code",
      "metadata": {
        "id": "lqHl5luYYQyG",
        "outputId": "fb00c558-4dea-468a-bccf-a0914ece36f7",
        "colab": {
          "base_uri": "https://localhost:8080/",
          "height": 199
        }
      },
      "source": [
        "##5) Affiche les 10 suivants\n",
        "A = 10\n",
        "for i in range(A+1,A+11):\n",
        "  print(i)"
      ],
      "execution_count": null,
      "outputs": [
        {
          "output_type": "stream",
          "text": [
            "11\n",
            "12\n",
            "13\n",
            "14\n",
            "15\n",
            "16\n",
            "17\n",
            "18\n",
            "19\n",
            "20\n"
          ],
          "name": "stdout"
        }
      ]
    },
    {
      "cell_type": "markdown",
      "metadata": {
        "id": "UddhoGa6vAuY"
      },
      "source": [
        "6) Additivité\n",
        "\n",
        "A <- input(user)\n",
        "\n",
        "B <- 0\n",
        "\n",
        "Pour i jusqu'à A+1\n",
        "\n",
        "> B <- B + i\n",
        "\n",
        "On affiche B\n",
        "\n"
      ]
    },
    {
      "cell_type": "code",
      "metadata": {
        "id": "zWj3XFDgdUsu",
        "outputId": "59723c86-f830-4a1c-f511-e2f699a6f5b6",
        "colab": {
          "base_uri": "https://localhost:8080/",
          "height": 54
        }
      },
      "source": [
        "##6) Somme de tous les entiers\n",
        "A = input()\n",
        "B = 0\n",
        "for i in range(int(A)+1):\n",
        "  B += i\n",
        "print(B)"
      ],
      "execution_count": 11,
      "outputs": [
        {
          "output_type": "stream",
          "text": [
            "55\n",
            "1540\n"
          ],
          "name": "stdout"
        }
      ]
    }
  ]
}