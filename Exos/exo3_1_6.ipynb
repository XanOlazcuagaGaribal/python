{
  "nbformat": 4,
  "nbformat_minor": 0,
  "metadata": {
    "colab": {
      "name": "exo3_1-6.ipynb",
      "provenance": [],
      "collapsed_sections": [],
      "authorship_tag": "ABX9TyNDkPQDj36M/gyLW1vY44wS",
      "include_colab_link": true
    },
    "kernelspec": {
      "name": "python3",
      "display_name": "Python 3"
    }
  },
  "cells": [
    {
      "cell_type": "markdown",
      "metadata": {
        "id": "view-in-github",
        "colab_type": "text"
      },
      "source": [
        "<a href=\"https://colab.research.google.com/github/XanOlazcuagaGaribal/python/blob/main/exo3_1_6.ipynb\" target=\"_parent\"><img src=\"https://colab.research.google.com/assets/colab-badge.svg\" alt=\"Open In Colab\"/></a>"
      ]
    },
    {
      "cell_type": "markdown",
      "metadata": {
        "id": "9Yv1oxzWkYOk"
      },
      "source": [
        "1) Le temps d'arrêt\n",
        "\n",
        "$H_n = \\sum_{k = 1}^n \\frac{1}{k}$\n",
        "\n",
        "n <- 1\n",
        "\n",
        "somme <- 0\n",
        "\n",
        "Tant que somme <= 10.0\n",
        "\n",
        "> somme = somme + 1.0/n\n",
        "\n",
        "> n = n + 1\n",
        "\n",
        "On affiche la somme \n",
        "\n",
        "On affiche n\n",
        "\n"
      ]
    },
    {
      "cell_type": "code",
      "metadata": {
        "id": "Lx6N8kmVkMxJ",
        "outputId": "9eb5126f-93f1-4759-ae8a-7f78da3be1cc",
        "colab": {
          "base_uri": "https://localhost:8080/",
          "height": 72
        }
      },
      "source": [
        "n = 1\n",
        "somme = 0.0\n",
        "alpha = int(input(\"Saisir un réel : \"))\n",
        "while somme <= alpha:\n",
        "  somme += 1.0/n\n",
        "  n = n+1\n",
        "print(\"Somme = \"+str(somme))\n",
        "print(\"Le plus petit entier n est \"+str(n))"
      ],
      "execution_count": 24,
      "outputs": [
        {
          "output_type": "stream",
          "text": [
            "Saisir un réel : 10\n",
            "Somme = 10.000043008275778\n",
            "Le plus petit entier n est 12368\n"
          ],
          "name": "stdout"
        }
      ]
    },
    {
      "cell_type": "markdown",
      "metadata": {
        "id": "ehzKlXdnket2"
      },
      "source": [
        "2) Petite équation\n",
        "\n",
        "x² - 2y² = 1 avec x, y E N*\n",
        "\n",
        "x,y <= 100\n",
        "\n",
        "x <- 1\n",
        "\n",
        "y <- 1\n",
        "\n",
        "Pour y entre 1 et 101 exclu\n",
        "\n",
        "> Pour x entre 1 et 101 exclu\n",
        "\n",
        "> > Si x² - 2y² == 1\n",
        "\n",
        "> > > Alors on affiche x et y\n",
        "\n",
        "\n"
      ]
    },
    {
      "cell_type": "code",
      "metadata": {
        "id": "_hjsKb7JkiYX",
        "outputId": "008c6838-ba54-4bf3-d7c2-0bc3fc0da7fc",
        "colab": {
          "base_uri": "https://localhost:8080/",
          "height": 72
        }
      },
      "source": [
        "from math import *\n",
        "\n",
        "x = 1\n",
        "y = 1\n",
        "\n",
        "for y in range(1,101):\n",
        "  for x in range(1,101):\n",
        "    if ((x*x) - 2 * (y*y)) == 1:\n",
        "      print(\"L'équation est correcte pour x = \"+ str(x) + \" et y = \" + str(y))\n"
      ],
      "execution_count": 41,
      "outputs": [
        {
          "output_type": "stream",
          "text": [
            "L'équation est correcte pour x = 3 et y = 2\n",
            "L'équation est correcte pour x = 17 et y = 12\n",
            "L'équation est correcte pour x = 99 et y = 70\n"
          ],
          "name": "stdout"
        }
      ]
    },
    {
      "cell_type": "markdown",
      "metadata": {
        "id": "uCZL5FCrkit4"
      },
      "source": [
        "3) Le classico classique : polynome 2\n",
        "\n",
        "ax² + bx + c = 0\n",
        "\n",
        "a <- input(user)\n",
        "\n",
        "b <- input(user)\n",
        "\n",
        "c <- input(user)\n",
        "\n",
        "delta = b * b - 4 * a * c //Calcul du discriminant\n",
        "\n",
        "Si delta < 0\n",
        "\n",
        "> Alors il n'y a pas de solution\n",
        "\n",
        "Si delta == 0 \n",
        "\n",
        "> Alors il n'y a qu'une solution\n",
        "\n",
        "> x = - b / 2 * a\n",
        "\n",
        "> On affiche x\n",
        "\n",
        "Si delta > 0\n",
        "\n",
        "> Alors il a 2 solutions\n",
        "\n",
        "> x1 = ( -b - racineCarre(delta)) / 2 * a\n",
        "\n",
        "> x2 = ( -b + racineCarre(delta)) / 2 * a\n",
        "\n",
        "> On affiche les solutions x1 et x2"
      ]
    },
    {
      "cell_type": "code",
      "metadata": {
        "id": "yZWi1s5okl54",
        "outputId": "9ea7d9f3-1296-4519-ce4f-bbdd136b039f",
        "colab": {
          "base_uri": "https://localhost:8080/",
          "height": 146
        }
      },
      "source": [
        "from math import *\n",
        "\n",
        "print(\"ax²+bx+c\")\n",
        "A = int(input(\"A = \"))\n",
        "B = int(input(\"B = \"))\n",
        "C = int(input(\"C = \"))\n",
        "x = 0\n",
        "x1 = 0\n",
        "x2 = 0\n",
        "delta = (B * B) - (4 * A * C)\n",
        "print(\"delta = \" + str(delta))\n",
        "if delta < 0:\n",
        "  print(\"Il n'y a pas de solutions\")\n",
        "\n",
        "if delta == 0:\n",
        "  x = -B / (2 * A)\n",
        "  print(\"X = \" + str(x))\n",
        "\n",
        "if delta > 0:\n",
        "  x1 = (-B - sqrt(delta)) / (2 *A)\n",
        "  x2 = (-B + sqrt(delta)) / (2 *A)\n",
        "  print(\"X1 = \" + str(x1))\n",
        "  print(\"X2 = \" + str(x2))"
      ],
      "execution_count": 49,
      "outputs": [
        {
          "output_type": "stream",
          "text": [
            "ax²+bx+c\n",
            "A = 2\n",
            "B = 15\n",
            "C = 2\n",
            "delta = 209\n",
            "X1 = -7.36420807370024\n",
            "X2 = -0.13579192629975978\n"
          ],
          "name": "stdout"
        }
      ]
    },
    {
      "cell_type": "markdown",
      "metadata": {
        "id": "UAQFgbfJ0FL7"
      },
      "source": [
        "4) Le retour : polynome 2 dans C\n",
        "\n",
        "ax² + bx + c = 0\n",
        "\n",
        "a <- input(user)\n",
        "\n",
        "b <- input(user)\n",
        "\n",
        "c <- input(user)\n",
        "\n",
        "delta = b * b - 4 * a * c //Calcul du discriminant\n",
        "\n",
        "Si delta < 0\n",
        "\n",
        " >   Alors il y a 2 solution\n",
        "\n",
        " >   x1 = ( -b - i * racineCarre(delta)) / 2 * a\n",
        "\n",
        " >   x2 = ( -b + i * racineCarre(delta)) / 2 * a\n",
        "\n",
        " > On affiche x1 et x2\n",
        "\n",
        "Si delta == 0\n",
        "\n",
        ">    Alors il n'y a qu'une solution\n",
        "\n",
        ">    x = - b / 2 * a\n",
        "\n",
        " >   On affiche x\n",
        "\n",
        "Si delta > 0\n",
        "\n",
        " >   Alors il a 2 solutions\n",
        "\n",
        " >   x1 = ( -b - racineCarre(delta)) / 2 * a\n",
        "\n",
        " >   x2 = ( -b + racineCarre(delta)) / 2 * a\n",
        "\n",
        " >   On affiche les solutions x1 et x2\n"
      ]
    },
    {
      "cell_type": "code",
      "metadata": {
        "id": "P6BGfeexWzKN",
        "outputId": "10163200-f1dc-4f5e-dea9-0d0a929ba45c",
        "colab": {
          "base_uri": "https://localhost:8080/",
          "height": 146
        }
      },
      "source": [
        "from math import *\n",
        "import cmath\n",
        "\n",
        "print(\"ax²+bx+c\")\n",
        "A = int(input(\"A = \"))\n",
        "B = int(input(\"B = \"))\n",
        "C = int(input(\"C = \"))\n",
        "x = 0\n",
        "x1 = 0\n",
        "x2 = 0\n",
        "delta = (B * B) - (4 * A * C)\n",
        "racineDelta = cmath.sqrt(delta)\n",
        "print(\"delta = \" + str(delta))\n",
        "if delta < 0:\n",
        "  x1 = (-(B) - racineDelta) / (2 *A)\n",
        "  x2 = (-(B) + racineDelta) / (2 *A)\n",
        "  print(\"X1 = \" + str(x1))\n",
        "  print(\"X2 = \" + str(x2))\n",
        "\n",
        "if delta == 0:\n",
        "  x = -B / (2 * A)\n",
        "  print(\"X = \" + str(x))\n",
        "\n",
        "if delta > 0:\n",
        "  x1 = (-B - racineDelta) / (2 *A)\n",
        "  x2 = (-B + racineDelta) / (2 *A)\n",
        "  print(\"X1 = \" + str(x1))\n",
        "  print(\"X2 = \" + str(x2))"
      ],
      "execution_count": 58,
      "outputs": [
        {
          "output_type": "stream",
          "text": [
            "ax²+bx+c\n",
            "A = 2\n",
            "B = 1\n",
            "C = 10\n",
            "delta = -79\n",
            "X1 = (-0.25-2.222048604328897j)\n",
            "X2 = (-0.25+2.222048604328897j)\n"
          ],
          "name": "stdout"
        }
      ]
    },
    {
      "cell_type": "markdown",
      "metadata": {
        "id": "150XQnhcWzgu"
      },
      "source": [
        "5) Factorielle\n",
        "\n",
        "n <- input(user)\n",
        "\n",
        "On défini la fonction fact(n)\n",
        ">Si n < 2 \n",
        "\n",
        "> > Alors on affiche 1\n",
        "\n",
        "> Sinon \n",
        "\n",
        "> > On affiche n * fact(n-1)"
      ]
    },
    {
      "cell_type": "code",
      "metadata": {
        "id": "OUxWJEFgWzxh",
        "outputId": "c0637d84-7dfb-4b5a-b554-0f31f0e63891",
        "colab": {
          "base_uri": "https://localhost:8080/",
          "height": 54
        }
      },
      "source": [
        "n = int(input())\n",
        "\n",
        "def fact(n):\n",
        "  if n < 2 :\n",
        "    return 1\n",
        "  else :\n",
        "     return n*fact(n-1)\n",
        "\n",
        "print(fact(n))"
      ],
      "execution_count": 64,
      "outputs": [
        {
          "output_type": "stream",
          "text": [
            "-5\n",
            "1\n"
          ],
          "name": "stdout"
        }
      ]
    },
    {
      "cell_type": "markdown",
      "metadata": {
        "id": "Iece6jUvWz6I"
      },
      "source": [
        "6) Toujours plus de maths\n",
        "\n",
        "f : [0,1] -> R \n",
        "\n",
        "Pour n>=1, on a :\n",
        "\n",
        "$U_n = \\frac{1}{n} \\sum_{k = 0}^{n-1} f(k/n)$\n",
        "\n",
        "$V_n = \\frac{1}{n} \\sum_{k = 1}^{n} f(k/n)$\n",
        "\n",
        "1- Pour tout n>=1, on a \n",
        "\n",
        "$U_n < \\int_0^1 f(x)dx < V_n$\n",
        "\n",
        "On admet que $U_n$ et $V_n$ convergent vers $\\int_0^1 f(x)dx$\n",
        "\n",
        "---\n",
        "\n",
        "2- Valeur approchée de $\\int_0^1 e^{x^2}dx$ à la centième près\n",
        "\n",
        "---\n",
        "\n"
      ]
    },
    {
      "cell_type": "code",
      "metadata": {
        "id": "1TQE2NU1W0DC"
      },
      "source": [
        ""
      ],
      "execution_count": null,
      "outputs": []
    }
  ]
}