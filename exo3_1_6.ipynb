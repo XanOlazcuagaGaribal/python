{
  "nbformat": 4,
  "nbformat_minor": 0,
  "metadata": {
    "colab": {
      "name": "exo3_1-6.ipynb",
      "provenance": [],
      "collapsed_sections": [],
      "authorship_tag": "ABX9TyNKrJIw5r5GCOb26zN7y7jg",
      "include_colab_link": true
    },
    "kernelspec": {
      "name": "python3",
      "display_name": "Python 3"
    }
  },
  "cells": [
    {
      "cell_type": "markdown",
      "metadata": {
        "id": "view-in-github",
        "colab_type": "text"
      },
      "source": [
        "<a href=\"https://colab.research.google.com/github/XanOlazcuagaGaribal/python/blob/main/exo3_1_6.ipynb\" target=\"_parent\"><img src=\"https://colab.research.google.com/assets/colab-badge.svg\" alt=\"Open In Colab\"/></a>"
      ]
    },
    {
      "cell_type": "markdown",
      "metadata": {
        "id": "9Yv1oxzWkYOk"
      },
      "source": [
        "1) Le temps d'arrêt\n",
        "\n",
        "$H_n = \\sum_{k = 1}^n \\frac{1}{k}$\n",
        "\n",
        "n <- 1\n",
        "\n",
        "somme <- 0\n",
        "\n",
        "Tant que somme <= 10.0\n",
        "\n",
        "> somme = somme + 1.0/n\n",
        "\n",
        "> n = n + 1\n",
        "\n",
        "On affiche la somme \n",
        "\n",
        "On affiche n\n",
        "\n"
      ]
    },
    {
      "cell_type": "code",
      "metadata": {
        "id": "Lx6N8kmVkMxJ",
        "outputId": "9eb5126f-93f1-4759-ae8a-7f78da3be1cc",
        "colab": {
          "base_uri": "https://localhost:8080/",
          "height": 72
        }
      },
      "source": [
        "n = 1\n",
        "somme = 0.0\n",
        "alpha = int(input(\"Saisir un réel : \"))\n",
        "while somme <= alpha:\n",
        "  somme += 1.0/n\n",
        "  n = n+1\n",
        "print(\"Somme = \"+str(somme))\n",
        "print(\"Le plus petit entier n est \"+str(n))"
      ],
      "execution_count": 24,
      "outputs": [
        {
          "output_type": "stream",
          "text": [
            "Saisir un réel : 10\n",
            "Somme = 10.000043008275778\n",
            "Le plus petit entier n est 12368\n"
          ],
          "name": "stdout"
        }
      ]
    },
    {
      "cell_type": "markdown",
      "metadata": {
        "id": "ehzKlXdnket2"
      },
      "source": [
        "2) Petite équation\n",
        "\n",
        "x² - 2y² = 1 avec x, y E N*\n",
        "\n",
        "x,y <= 100\n",
        "\n",
        "x <- 1\n",
        "\n",
        "y <- 1\n",
        "\n",
        "Pour y entre 1 et 101 exclu\n",
        "\n",
        "> Pour x entre 1 et 101 exclu\n",
        "\n",
        "> > Si x² - 2y² == 1\n",
        "\n",
        "> > > Alors on affiche x et y\n",
        "\n",
        "\n"
      ]
    },
    {
      "cell_type": "code",
      "metadata": {
        "id": "_hjsKb7JkiYX",
        "outputId": "008c6838-ba54-4bf3-d7c2-0bc3fc0da7fc",
        "colab": {
          "base_uri": "https://localhost:8080/",
          "height": 72
        }
      },
      "source": [
        "from math import *\n",
        "\n",
        "x = 1\n",
        "y = 1\n",
        "\n",
        "for y in range(1,101):\n",
        "  for x in range(1,101):\n",
        "    if ((x*x) - 2 * (y*y)) == 1:\n",
        "      print(\"L'équation est correcte pour x = \"+ str(x) + \" et y = \" + str(y))\n"
      ],
      "execution_count": 41,
      "outputs": [
        {
          "output_type": "stream",
          "text": [
            "L'équation est correcte pour x = 3 et y = 2\n",
            "L'équation est correcte pour x = 17 et y = 12\n",
            "L'équation est correcte pour x = 99 et y = 70\n"
          ],
          "name": "stdout"
        }
      ]
    },
    {
      "cell_type": "markdown",
      "metadata": {
        "id": "uCZL5FCrkit4"
      },
      "source": [
        "3) Polynome 2"
      ]
    },
    {
      "cell_type": "code",
      "metadata": {
        "id": "yZWi1s5okl54"
      },
      "source": [
        ""
      ],
      "execution_count": null,
      "outputs": []
    },
    {
      "cell_type": "markdown",
      "metadata": {
        "id": "UAQFgbfJ0FL7"
      },
      "source": [
        "4) Polynome 2"
      ]
    }
  ]
}