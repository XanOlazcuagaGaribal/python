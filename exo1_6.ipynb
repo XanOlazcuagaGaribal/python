{
  "nbformat": 4,
  "nbformat_minor": 0,
  "metadata": {
    "colab": {
      "name": "exo1-6",
      "provenance": [],
      "collapsed_sections": []
    },
    "kernelspec": {
      "name": "python3",
      "display_name": "Python 3"
    }
  },
  "cells": [
    {
      "cell_type": "code",
      "metadata": {
        "id": "cpy3beBoS2sh",
        "outputId": "b0ec2a2f-747e-4514-eab0-76ee83090a08",
        "colab": {
          "base_uri": "https://localhost:8080/",
          "height": 72
        }
      },
      "source": [
        "##1) Simple échange\n",
        "A = 1\n",
        "B = 2\n",
        "C = 0\n",
        "C = A\n",
        "A = B\n",
        "B = C\n",
        "print(A)\n",
        "print(B)\n",
        "print(C)"
      ],
      "execution_count": null,
      "outputs": [
        {
          "output_type": "stream",
          "text": [
            "2\n",
            "1\n",
            "1\n"
          ],
          "name": "stdout"
        }
      ]
    },
    {
      "cell_type": "code",
      "metadata": {
        "id": "-UHKF_iyVcAX",
        "outputId": "4b716806-1ec7-43b4-f957-1a752f7623eb",
        "colab": {
          "base_uri": "https://localhost:8080/",
          "height": 35
        }
      },
      "source": [
        "##2) Afficher le ²\n",
        "A = 2\n",
        "B = 0\n",
        "B = A * A\n",
        "print(B)"
      ],
      "execution_count": null,
      "outputs": [
        {
          "output_type": "stream",
          "text": [
            "4\n"
          ],
          "name": "stdout"
        }
      ]
    },
    {
      "cell_type": "code",
      "metadata": {
        "id": "WNxFyaFUVujh",
        "outputId": "1b6f1a45-abe3-4b82-8425-625a8ad03d82",
        "colab": {
          "base_uri": "https://localhost:8080/",
          "height": 35
        }
      },
      "source": [
        "##3) Positif ou négatif\n",
        "A = -5\n",
        "if(A >= 0):\n",
        "  print(\"Le chiffre est positif\")\n",
        "else:\n",
        "  print(\"Le chiffre est négatif\")"
      ],
      "execution_count": null,
      "outputs": [
        {
          "output_type": "stream",
          "text": [
            "Le chiffre est négatif\n"
          ],
          "name": "stdout"
        }
      ]
    },
    {
      "cell_type": "code",
      "metadata": {
        "id": "kF7-xiWkWMqK",
        "outputId": "60c5ee40-482f-4b95-a40a-77c93160405b",
        "colab": {
          "base_uri": "https://localhost:8080/",
          "height": 35
        }
      },
      "source": [
        "##4) Produit positif ou négatif\n",
        "A = -1\n",
        "B = 2\n",
        "if(A >= 0 & B >= 0):\n",
        "  print(\"Le produit est positif 1 \")\n",
        "if(A < 0 & B < 0):\n",
        "  print(\"Le produit est positif 2\")\n",
        "if(A > 0 & B < 0):\n",
        "  print(\"Le produit est négatif\")\n",
        "if(A < 0 & B > 0):\n",
        "  print(\"Le produit est négatif\")\n",
        "if(A == 0 & B < 0):\n",
        "  print(\"Le produit est positif 3\")\n",
        "if(A < 0 & B == 0):\n",
        "  print(\"Le produit est positif 4\")"
      ],
      "execution_count": null,
      "outputs": [
        {
          "output_type": "stream",
          "text": [
            "Le produit est positif 4\n"
          ],
          "name": "stdout"
        }
      ]
    },
    {
      "cell_type": "code",
      "metadata": {
        "id": "lqHl5luYYQyG",
        "outputId": "fb00c558-4dea-468a-bccf-a0914ece36f7",
        "colab": {
          "base_uri": "https://localhost:8080/",
          "height": 199
        }
      },
      "source": [
        "##5) Affiche les 10 suivants\n",
        "A = 10\n",
        "for i in range(A+1,A+11):\n",
        "  print(i)"
      ],
      "execution_count": null,
      "outputs": [
        {
          "output_type": "stream",
          "text": [
            "11\n",
            "12\n",
            "13\n",
            "14\n",
            "15\n",
            "16\n",
            "17\n",
            "18\n",
            "19\n",
            "20\n"
          ],
          "name": "stdout"
        }
      ]
    },
    {
      "cell_type": "code",
      "metadata": {
        "id": "zWj3XFDgdUsu",
        "outputId": "6a242d3a-a5d9-45cc-ff19-ecc6db8ce59f",
        "colab": {
          "base_uri": "https://localhost:8080/",
          "height": 35
        }
      },
      "source": [
        "##6) Somme de tous les entiers\n",
        "A = 234\n",
        "B = 0\n",
        "for i in range(A+1):\n",
        "  B += i\n",
        "print(B)"
      ],
      "execution_count": null,
      "outputs": [
        {
          "output_type": "stream",
          "text": [
            "27495\n"
          ],
          "name": "stdout"
        }
      ]
    }
  ]
}